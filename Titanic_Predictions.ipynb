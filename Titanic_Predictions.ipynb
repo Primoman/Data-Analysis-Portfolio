{
 "cells": [
  {
   "cell_type": "markdown",
   "id": "3ba90cc8",
   "metadata": {},
   "source": [
    "# Introduction: \n",
    "This is analysis of Kaggle's Titanic - Machine Learning from Disaster dataset where the objective is to predict whether a passenger on the Titanic would have survived based on certain criteria. Much of the learning for this was through the Udemy Python for Data Science and Machine Learning Bootcamp.\n",
    "\n",
    "The steps taken in this approach are as follows:\n",
    "### 1. Exploratory Data Analysis\n",
    "### 2. Data Cleaning\n",
    "### 3. Feature Engineering\n",
    "### 4. ML Modeling"
   ]
  },
  {
   "cell_type": "markdown",
   "id": "cb605383",
   "metadata": {},
   "source": [
    "### Variable   / \tDefinition   / \t Key\n",
    "\n",
    "survival   / \tSurvival   / \t0 = No, 1 = Yes\n",
    "\n",
    "pclass /\tTicket class / \t1 = 1st, 2 = 2nd, 3 = 3rd\n",
    "\n",
    "sex  /\tSex\t\n",
    "\n",
    "Age  /\tAge in years\t\n",
    "\n",
    "sibsp   /\t# of siblings and spouses aboard the Titanic\t\n",
    "\n",
    "parch   /\t# of parents and children aboard the Titanic\t\n",
    "\n",
    "ticket  /\tTicket number\t\n",
    "\n",
    "fare   / \tPassenger fare\t\n",
    "\n",
    "cabin  /  \tCabin number\t\n",
    "\n",
    "embarked   / \tPort of Embarkation  /   C = Cherbourg, Q = Queenstown, S = Southampton"
   ]
  },
  {
   "cell_type": "markdown",
   "id": "94ce33d7",
   "metadata": {},
   "source": [
    "###### Importing Libraries"
   ]
  },
  {
   "cell_type": "code",
   "execution_count": 1,
   "id": "31c07b84-d958-4349-9855-1e3e13faf675",
   "metadata": {},
   "outputs": [],
   "source": [
    "# Data wrangling\n",
    "import pandas as pd\n",
    "import numpy as np\n",
    "# Data Visualisation\n",
    "import matplotlib.pyplot as plt\n",
    "import seaborn as sns\n",
    "%matplotlib inline\n",
    "# Machine Learning Models\n",
    "from sklearn.linear_model import LogisticRegression\n",
    "from sklearn.preprocessing import StandardScaler\n",
    "from sklearn.neighbors import KNeighborsClassifier\n",
    "from sklearn.tree import DecisionTreeClassifier\n",
    "from sklearn.ensemble import RandomForestClassifier\n",
    "from sklearn.svm import SVC\n",
    "from sklearn.model_selection import GridSearchCV\n",
    "from sklearn.model_selection import train_test_split\n",
    "# Futurewarnings\n",
    "import warnings\n",
    "warnings.simplefilter(action='ignore', category=FutureWarning)"
   ]
  },
  {
   "cell_type": "markdown",
   "id": "a233ecaf",
   "metadata": {},
   "source": [
    "###### Reading training and test csv files"
   ]
  },
  {
   "cell_type": "code",
   "execution_count": 2,
   "id": "3405f75c-584f-4360-9209-edb9c4af0ae5",
   "metadata": {},
   "outputs": [],
   "source": [
    "train = pd.read_csv('titanic_train.csv')\n",
    "test = pd.read_csv('titanic_test.csv')"
   ]
  },
  {
   "cell_type": "markdown",
   "id": "02edfc68",
   "metadata": {},
   "source": [
    "We can see the columns for the data below. 891 records, some null values for the Age and Cabin columns."
   ]
  },
  {
   "cell_type": "code",
   "execution_count": 3,
   "id": "c2e33d59-6b3e-4420-b886-de7ffc01207e",
   "metadata": {},
   "outputs": [
    {
     "name": "stdout",
     "output_type": "stream",
     "text": [
      "<class 'pandas.core.frame.DataFrame'>\n",
      "RangeIndex: 891 entries, 0 to 890\n",
      "Data columns (total 12 columns):\n",
      " #   Column       Non-Null Count  Dtype  \n",
      "---  ------       --------------  -----  \n",
      " 0   PassengerId  891 non-null    int64  \n",
      " 1   Survived     891 non-null    int64  \n",
      " 2   Pclass       891 non-null    int64  \n",
      " 3   Name         891 non-null    object \n",
      " 4   Sex          891 non-null    object \n",
      " 5   Age          714 non-null    float64\n",
      " 6   SibSp        891 non-null    int64  \n",
      " 7   Parch        891 non-null    int64  \n",
      " 8   Ticket       891 non-null    object \n",
      " 9   Fare         891 non-null    float64\n",
      " 10  Cabin        204 non-null    object \n",
      " 11  Embarked     889 non-null    object \n",
      "dtypes: float64(2), int64(5), object(5)\n",
      "memory usage: 83.7+ KB\n"
     ]
    }
   ],
   "source": [
    "train.info()"
   ]
  },
  {
   "cell_type": "code",
   "execution_count": 4,
   "id": "4185e52e-a834-470c-87fa-5f75b4198a2d",
   "metadata": {},
   "outputs": [
    {
     "data": {
      "text/html": [
       "<div>\n",
       "<style scoped>\n",
       "    .dataframe tbody tr th:only-of-type {\n",
       "        vertical-align: middle;\n",
       "    }\n",
       "\n",
       "    .dataframe tbody tr th {\n",
       "        vertical-align: top;\n",
       "    }\n",
       "\n",
       "    .dataframe thead th {\n",
       "        text-align: right;\n",
       "    }\n",
       "</style>\n",
       "<table border=\"1\" class=\"dataframe\">\n",
       "  <thead>\n",
       "    <tr style=\"text-align: right;\">\n",
       "      <th></th>\n",
       "      <th>PassengerId</th>\n",
       "      <th>Survived</th>\n",
       "      <th>Pclass</th>\n",
       "      <th>Name</th>\n",
       "      <th>Sex</th>\n",
       "      <th>Age</th>\n",
       "      <th>SibSp</th>\n",
       "      <th>Parch</th>\n",
       "      <th>Ticket</th>\n",
       "      <th>Fare</th>\n",
       "      <th>Cabin</th>\n",
       "      <th>Embarked</th>\n",
       "    </tr>\n",
       "  </thead>\n",
       "  <tbody>\n",
       "    <tr>\n",
       "      <th>0</th>\n",
       "      <td>1</td>\n",
       "      <td>0</td>\n",
       "      <td>3</td>\n",
       "      <td>Braund, Mr. Owen Harris</td>\n",
       "      <td>male</td>\n",
       "      <td>22.0</td>\n",
       "      <td>1</td>\n",
       "      <td>0</td>\n",
       "      <td>A/5 21171</td>\n",
       "      <td>7.2500</td>\n",
       "      <td>NaN</td>\n",
       "      <td>S</td>\n",
       "    </tr>\n",
       "    <tr>\n",
       "      <th>1</th>\n",
       "      <td>2</td>\n",
       "      <td>1</td>\n",
       "      <td>1</td>\n",
       "      <td>Cumings, Mrs. John Bradley (Florence Briggs Th...</td>\n",
       "      <td>female</td>\n",
       "      <td>38.0</td>\n",
       "      <td>1</td>\n",
       "      <td>0</td>\n",
       "      <td>PC 17599</td>\n",
       "      <td>71.2833</td>\n",
       "      <td>C85</td>\n",
       "      <td>C</td>\n",
       "    </tr>\n",
       "    <tr>\n",
       "      <th>2</th>\n",
       "      <td>3</td>\n",
       "      <td>1</td>\n",
       "      <td>3</td>\n",
       "      <td>Heikkinen, Miss. Laina</td>\n",
       "      <td>female</td>\n",
       "      <td>26.0</td>\n",
       "      <td>0</td>\n",
       "      <td>0</td>\n",
       "      <td>STON/O2. 3101282</td>\n",
       "      <td>7.9250</td>\n",
       "      <td>NaN</td>\n",
       "      <td>S</td>\n",
       "    </tr>\n",
       "    <tr>\n",
       "      <th>3</th>\n",
       "      <td>4</td>\n",
       "      <td>1</td>\n",
       "      <td>1</td>\n",
       "      <td>Futrelle, Mrs. Jacques Heath (Lily May Peel)</td>\n",
       "      <td>female</td>\n",
       "      <td>35.0</td>\n",
       "      <td>1</td>\n",
       "      <td>0</td>\n",
       "      <td>113803</td>\n",
       "      <td>53.1000</td>\n",
       "      <td>C123</td>\n",
       "      <td>S</td>\n",
       "    </tr>\n",
       "    <tr>\n",
       "      <th>4</th>\n",
       "      <td>5</td>\n",
       "      <td>0</td>\n",
       "      <td>3</td>\n",
       "      <td>Allen, Mr. William Henry</td>\n",
       "      <td>male</td>\n",
       "      <td>35.0</td>\n",
       "      <td>0</td>\n",
       "      <td>0</td>\n",
       "      <td>373450</td>\n",
       "      <td>8.0500</td>\n",
       "      <td>NaN</td>\n",
       "      <td>S</td>\n",
       "    </tr>\n",
       "  </tbody>\n",
       "</table>\n",
       "</div>"
      ],
      "text/plain": [
       "   PassengerId  Survived  Pclass  \\\n",
       "0            1         0       3   \n",
       "1            2         1       1   \n",
       "2            3         1       3   \n",
       "3            4         1       1   \n",
       "4            5         0       3   \n",
       "\n",
       "                                                Name     Sex   Age  SibSp  \\\n",
       "0                            Braund, Mr. Owen Harris    male  22.0      1   \n",
       "1  Cumings, Mrs. John Bradley (Florence Briggs Th...  female  38.0      1   \n",
       "2                             Heikkinen, Miss. Laina  female  26.0      0   \n",
       "3       Futrelle, Mrs. Jacques Heath (Lily May Peel)  female  35.0      1   \n",
       "4                           Allen, Mr. William Henry    male  35.0      0   \n",
       "\n",
       "   Parch            Ticket     Fare Cabin Embarked  \n",
       "0      0         A/5 21171   7.2500   NaN        S  \n",
       "1      0          PC 17599  71.2833   C85        C  \n",
       "2      0  STON/O2. 3101282   7.9250   NaN        S  \n",
       "3      0            113803  53.1000  C123        S  \n",
       "4      0            373450   8.0500   NaN        S  "
      ]
     },
     "execution_count": 4,
     "metadata": {},
     "output_type": "execute_result"
    }
   ],
   "source": [
    "train.head()"
   ]
  },
  {
   "cell_type": "markdown",
   "id": "e8b2abcf",
   "metadata": {},
   "source": [
    "Test data also seems to have approximately the same ratio of Age and Cabin records missing. "
   ]
  },
  {
   "cell_type": "code",
   "execution_count": 5,
   "id": "ae0f7e16-ee26-46fd-a158-f86874269560",
   "metadata": {},
   "outputs": [
    {
     "name": "stdout",
     "output_type": "stream",
     "text": [
      "<class 'pandas.core.frame.DataFrame'>\n",
      "RangeIndex: 418 entries, 0 to 417\n",
      "Data columns (total 11 columns):\n",
      " #   Column       Non-Null Count  Dtype  \n",
      "---  ------       --------------  -----  \n",
      " 0   PassengerId  418 non-null    int64  \n",
      " 1   Pclass       418 non-null    int64  \n",
      " 2   Name         418 non-null    object \n",
      " 3   Sex          418 non-null    object \n",
      " 4   Age          332 non-null    float64\n",
      " 5   SibSp        418 non-null    int64  \n",
      " 6   Parch        418 non-null    int64  \n",
      " 7   Ticket       418 non-null    object \n",
      " 8   Fare         417 non-null    float64\n",
      " 9   Cabin        91 non-null     object \n",
      " 10  Embarked     418 non-null    object \n",
      "dtypes: float64(2), int64(4), object(5)\n",
      "memory usage: 36.1+ KB\n"
     ]
    }
   ],
   "source": [
    "test.info()"
   ]
  },
  {
   "cell_type": "code",
   "execution_count": 6,
   "id": "9f2a7820-c2bf-481c-bee4-2e33cf8edef0",
   "metadata": {},
   "outputs": [
    {
     "data": {
      "text/html": [
       "<div>\n",
       "<style scoped>\n",
       "    .dataframe tbody tr th:only-of-type {\n",
       "        vertical-align: middle;\n",
       "    }\n",
       "\n",
       "    .dataframe tbody tr th {\n",
       "        vertical-align: top;\n",
       "    }\n",
       "\n",
       "    .dataframe thead th {\n",
       "        text-align: right;\n",
       "    }\n",
       "</style>\n",
       "<table border=\"1\" class=\"dataframe\">\n",
       "  <thead>\n",
       "    <tr style=\"text-align: right;\">\n",
       "      <th></th>\n",
       "      <th>PassengerId</th>\n",
       "      <th>Pclass</th>\n",
       "      <th>Name</th>\n",
       "      <th>Sex</th>\n",
       "      <th>Age</th>\n",
       "      <th>SibSp</th>\n",
       "      <th>Parch</th>\n",
       "      <th>Ticket</th>\n",
       "      <th>Fare</th>\n",
       "      <th>Cabin</th>\n",
       "      <th>Embarked</th>\n",
       "    </tr>\n",
       "  </thead>\n",
       "  <tbody>\n",
       "    <tr>\n",
       "      <th>0</th>\n",
       "      <td>892</td>\n",
       "      <td>3</td>\n",
       "      <td>Kelly, Mr. James</td>\n",
       "      <td>male</td>\n",
       "      <td>34.5</td>\n",
       "      <td>0</td>\n",
       "      <td>0</td>\n",
       "      <td>330911</td>\n",
       "      <td>7.8292</td>\n",
       "      <td>NaN</td>\n",
       "      <td>Q</td>\n",
       "    </tr>\n",
       "    <tr>\n",
       "      <th>1</th>\n",
       "      <td>893</td>\n",
       "      <td>3</td>\n",
       "      <td>Wilkes, Mrs. James (Ellen Needs)</td>\n",
       "      <td>female</td>\n",
       "      <td>47.0</td>\n",
       "      <td>1</td>\n",
       "      <td>0</td>\n",
       "      <td>363272</td>\n",
       "      <td>7.0000</td>\n",
       "      <td>NaN</td>\n",
       "      <td>S</td>\n",
       "    </tr>\n",
       "    <tr>\n",
       "      <th>2</th>\n",
       "      <td>894</td>\n",
       "      <td>2</td>\n",
       "      <td>Myles, Mr. Thomas Francis</td>\n",
       "      <td>male</td>\n",
       "      <td>62.0</td>\n",
       "      <td>0</td>\n",
       "      <td>0</td>\n",
       "      <td>240276</td>\n",
       "      <td>9.6875</td>\n",
       "      <td>NaN</td>\n",
       "      <td>Q</td>\n",
       "    </tr>\n",
       "    <tr>\n",
       "      <th>3</th>\n",
       "      <td>895</td>\n",
       "      <td>3</td>\n",
       "      <td>Wirz, Mr. Albert</td>\n",
       "      <td>male</td>\n",
       "      <td>27.0</td>\n",
       "      <td>0</td>\n",
       "      <td>0</td>\n",
       "      <td>315154</td>\n",
       "      <td>8.6625</td>\n",
       "      <td>NaN</td>\n",
       "      <td>S</td>\n",
       "    </tr>\n",
       "    <tr>\n",
       "      <th>4</th>\n",
       "      <td>896</td>\n",
       "      <td>3</td>\n",
       "      <td>Hirvonen, Mrs. Alexander (Helga E Lindqvist)</td>\n",
       "      <td>female</td>\n",
       "      <td>22.0</td>\n",
       "      <td>1</td>\n",
       "      <td>1</td>\n",
       "      <td>3101298</td>\n",
       "      <td>12.2875</td>\n",
       "      <td>NaN</td>\n",
       "      <td>S</td>\n",
       "    </tr>\n",
       "  </tbody>\n",
       "</table>\n",
       "</div>"
      ],
      "text/plain": [
       "   PassengerId  Pclass                                          Name     Sex  \\\n",
       "0          892       3                              Kelly, Mr. James    male   \n",
       "1          893       3              Wilkes, Mrs. James (Ellen Needs)  female   \n",
       "2          894       2                     Myles, Mr. Thomas Francis    male   \n",
       "3          895       3                              Wirz, Mr. Albert    male   \n",
       "4          896       3  Hirvonen, Mrs. Alexander (Helga E Lindqvist)  female   \n",
       "\n",
       "    Age  SibSp  Parch   Ticket     Fare Cabin Embarked  \n",
       "0  34.5      0      0   330911   7.8292   NaN        Q  \n",
       "1  47.0      1      0   363272   7.0000   NaN        S  \n",
       "2  62.0      0      0   240276   9.6875   NaN        Q  \n",
       "3  27.0      0      0   315154   8.6625   NaN        S  \n",
       "4  22.0      1      1  3101298  12.2875   NaN        S  "
      ]
     },
     "execution_count": 6,
     "metadata": {},
     "output_type": "execute_result"
    }
   ],
   "source": [
    "test.head()"
   ]
  },
  {
   "cell_type": "markdown",
   "id": "af023fd7",
   "metadata": {},
   "source": [
    "## 1. Exploratory Data Analysis"
   ]
  },
  {
   "cell_type": "code",
   "execution_count": 7,
   "id": "c2aae618-3575-40a2-a4c7-aaa2d6956935",
   "metadata": {},
   "outputs": [],
   "source": [
    "datasets = [train, test]"
   ]
  },
  {
   "cell_type": "markdown",
   "id": "d0269d22",
   "metadata": {},
   "source": [
    "We can see that women were more likely to survive than men. It was known that women and children were prioritised into the lifeboats after the iceberg collision."
   ]
  },
  {
   "cell_type": "code",
   "execution_count": 8,
   "id": "e3c0d46c-d1d3-4d6a-b4f9-6cf973ec3773",
   "metadata": {},
   "outputs": [
    {
     "data": {
      "text/html": [
       "<div>\n",
       "<style scoped>\n",
       "    .dataframe tbody tr th:only-of-type {\n",
       "        vertical-align: middle;\n",
       "    }\n",
       "\n",
       "    .dataframe tbody tr th {\n",
       "        vertical-align: top;\n",
       "    }\n",
       "\n",
       "    .dataframe thead th {\n",
       "        text-align: right;\n",
       "    }\n",
       "</style>\n",
       "<table border=\"1\" class=\"dataframe\">\n",
       "  <thead>\n",
       "    <tr style=\"text-align: right;\">\n",
       "      <th></th>\n",
       "      <th>Sex</th>\n",
       "      <th>Survived</th>\n",
       "    </tr>\n",
       "  </thead>\n",
       "  <tbody>\n",
       "    <tr>\n",
       "      <th>0</th>\n",
       "      <td>female</td>\n",
       "      <td>0.742038</td>\n",
       "    </tr>\n",
       "    <tr>\n",
       "      <th>1</th>\n",
       "      <td>male</td>\n",
       "      <td>0.188908</td>\n",
       "    </tr>\n",
       "  </tbody>\n",
       "</table>\n",
       "</div>"
      ],
      "text/plain": [
       "      Sex  Survived\n",
       "0  female  0.742038\n",
       "1    male  0.188908"
      ]
     },
     "execution_count": 8,
     "metadata": {},
     "output_type": "execute_result"
    }
   ],
   "source": [
    "train[['Sex', 'Survived']].groupby('Sex', as_index = False).mean().sort_values(by = 'Survived', ascending = False)"
   ]
  },
  {
   "cell_type": "code",
   "execution_count": 9,
   "id": "eebd81bf-2bf4-442d-97ca-30f1fe1e7a0e",
   "metadata": {},
   "outputs": [
    {
     "data": {
      "text/plain": [
       "Text(0.5, 1.0, 'Survival Probability by Gender')"
      ]
     },
     "execution_count": 9,
     "metadata": {},
     "output_type": "execute_result"
    },
    {
     "data": {
      "image/png": "[encoded data removed]",
      "text/plain": [
       "<Figure size 640x480 with 1 Axes>"
      ]
     },
     "metadata": {},
     "output_type": "display_data"
    }
   ],
   "source": [
    "sns.barplot(x = 'Sex', y ='Survived', data = train)\n",
    "plt.ylabel('Survival Probability')\n",
    "plt.title('Survival Probability by Gender')"
   ]
  },
  {
   "cell_type": "markdown",
   "id": "0558d1fe",
   "metadata": {},
   "source": [
    "Here we can see the rate of survival for 1st class passengers was higher than the 2nd which was then higher than 3rd. Assuming this confirms the more wealthy passengers were prioritised into lifeboats. "
   ]
  },
  {
   "cell_type": "code",
   "execution_count": 10,
   "id": "bb90c8d5-5036-4d51-9700-7b67a76f2131",
   "metadata": {},
   "outputs": [
    {
     "data": {
      "text/html": [
       "<div>\n",
       "<style scoped>\n",
       "    .dataframe tbody tr th:only-of-type {\n",
       "        vertical-align: middle;\n",
       "    }\n",
       "\n",
       "    .dataframe tbody tr th {\n",
       "        vertical-align: top;\n",
       "    }\n",
       "\n",
       "    .dataframe thead th {\n",
       "        text-align: right;\n",
       "    }\n",
       "</style>\n",
       "<table border=\"1\" class=\"dataframe\">\n",
       "  <thead>\n",
       "    <tr style=\"text-align: right;\">\n",
       "      <th></th>\n",
       "      <th>Pclass</th>\n",
       "      <th>Survived</th>\n",
       "    </tr>\n",
       "  </thead>\n",
       "  <tbody>\n",
       "    <tr>\n",
       "      <th>0</th>\n",
       "      <td>1</td>\n",
       "      <td>0.629630</td>\n",
       "    </tr>\n",
       "    <tr>\n",
       "      <th>1</th>\n",
       "      <td>2</td>\n",
       "      <td>0.472826</td>\n",
       "    </tr>\n",
       "    <tr>\n",
       "      <th>2</th>\n",
       "      <td>3</td>\n",
       "      <td>0.242363</td>\n",
       "    </tr>\n",
       "  </tbody>\n",
       "</table>\n",
       "</div>"
      ],
      "text/plain": [
       "   Pclass  Survived\n",
       "0       1  0.629630\n",
       "1       2  0.472826\n",
       "2       3  0.242363"
      ]
     },
     "execution_count": 10,
     "metadata": {},
     "output_type": "execute_result"
    }
   ],
   "source": [
    "train['Survived'] = train['Survived'].astype(int)\n",
    "train[['Pclass', 'Survived']].groupby(['Pclass'], as_index = False).mean().sort_values(by = 'Survived', ascending = False)"
   ]
  },
  {
   "cell_type": "code",
   "execution_count": 11,
   "id": "8d283132-1504-44c6-8fbb-4231940c70bb",
   "metadata": {},
   "outputs": [
    {
     "data": {
      "text/plain": [
       "Text(0.5, 1.0, 'Survival Probability by Passenger Class')"
      ]
     },
     "execution_count": 11,
     "metadata": {},
     "output_type": "execute_result"
    },
    {
     "data": {
      "image/png": "[encoded data removed]",
      "text/plain": [
       "<Figure size 640x480 with 1 Axes>"
      ]
     },
     "metadata": {},
     "output_type": "display_data"
    }
   ],
   "source": [
    "train['Pclass'] = train['Pclass'].astype(int)\n",
    "\n",
    "sns.barplot(x = 'Pclass', y ='Survived', data = train)\n",
    "plt.ylabel('Survival Probability')\n",
    "plt.title('Survival Probability by Passenger Class')"
   ]
  },
  {
   "cell_type": "markdown",
   "id": "ed52470b",
   "metadata": {},
   "source": [
    "Females were prioritised across all passenger classes. Even the 3rd class females had a higher rate of survival than the 1st class males. We can clearly see the class divide here too as 3rd class females had nearly half the chance of survival than the 1st and 2nd classes. Males in 1st class had about double the chance than the lower classes."
   ]
  },
  {
   "cell_type": "code",
   "execution_count": 12,
   "id": "2680238a-e169-4eb0-b4e5-d1b268307f90",
   "metadata": {},
   "outputs": [
    {
     "data": {
      "text/plain": [
       "Text(0.5, 1.0, 'Survival Probability by Sex & Passenger Class')"
      ]
     },
     "execution_count": 12,
     "metadata": {},
     "output_type": "execute_result"
    },
    {
     "data": {
      "image/png": "[encoded data removed]",
      "text/plain": [
       "<Figure size 640x480 with 1 Axes>"
      ]
     },
     "metadata": {},
     "output_type": "display_data"
    }
   ],
   "source": [
    "sns.barplot(x = 'Pclass', y ='Survived', data = train, hue='Sex')\n",
    "plt.ylabel('Survival Probability')\n",
    "plt.title('Survival Probability by Sex & Passenger Class')"
   ]
  },
  {
   "cell_type": "markdown",
   "id": "44407ac3",
   "metadata": {},
   "source": [
    "## 2. Data Cleaning"
   ]
  },
  {
   "cell_type": "markdown",
   "id": "481b5c65",
   "metadata": {},
   "source": [
    "Many values missing for the Cabin and Age columns. \n",
    "1 Fare value missing in the test set. "
   ]
  },
  {
   "cell_type": "code",
   "execution_count": 13,
   "id": "1fba1714-010c-4436-a91d-2ec694cb4c43",
   "metadata": {},
   "outputs": [
    {
     "data": {
      "image/png": "[encoded data removed]",
      "text/plain": [
       "<Figure size 640x480 with 2 Axes>"
      ]
     },
     "metadata": {},
     "output_type": "display_data"
    },
    {
     "data": {
      "image/png": "[encoded data removed]",
      "text/plain": [
       "<Figure size 640x480 with 2 Axes>"
      ]
     },
     "metadata": {},
     "output_type": "display_data"
    }
   ],
   "source": [
    "#ANALYSIS OF NULL VALUES\n",
    "# ADD IDENTIFIER COLUMNS FOR HEATMAPS DISPLAY\n",
    "train['TT'] = 'TRAIN'\n",
    "#train.drop('Survived', axis=1, inplace=True)\n",
    "test['TT'] = 'TEST'\n",
    "\n",
    "for data in datasets:\n",
    "    fig, ax = plt.subplots(1,1)\n",
    "    ax.set_title(data['TT'][0])\n",
    "\n",
    "    ax = sns.heatmap(data.isnull(), yticklabels=False, cmap='viridis')"
   ]
  },
  {
   "cell_type": "markdown",
   "id": "5b5c1763",
   "metadata": {},
   "source": [
    "Will get the median age of the passenger classes in the training set and impute the ages to the null values, again based on their class."
   ]
  },
  {
   "cell_type": "code",
   "execution_count": 14,
   "id": "beb1747e-d825-4bea-8dcb-79f18bd31d70",
   "metadata": {},
   "outputs": [
    {
     "data": {
      "image/png": "[encoded data removed]",
      "text/plain": [
       "<Figure size 640x480 with 1 Axes>"
      ]
     },
     "metadata": {},
     "output_type": "display_data"
    }
   ],
   "source": [
    "# Find Median Age of Classes\n",
    "box_plot = sns.boxplot(data=train, x='Pclass', y='Age')\n",
    "\n",
    "ax = box_plot.axes\n",
    "lines = ax.get_lines()\n",
    "categories = ax.get_xticks()\n",
    "\n",
    "for cat in categories:\n",
    "    # every 4th line at the interval of 6 is median line\n",
    "    # 0 -> p25 1 -> p75 2 -> lower whisker 3 -> upper whisker 4 -> p50 5 -> upper extreme value\n",
    "    y = round(lines[4+cat*6].get_ydata()[0],1) \n",
    "\n",
    "    ax.text(\n",
    "        cat, \n",
    "        y, \n",
    "        f'{y}', \n",
    "        ha='center', \n",
    "        va='center', \n",
    "        fontweight='bold', \n",
    "        size=10,\n",
    "        color='white',\n",
    "        bbox=dict(facecolor='#445A64'))\n",
    "\n",
    "box_plot.figure.tight_layout()"
   ]
  },
  {
   "cell_type": "code",
   "execution_count": 15,
   "id": "8795330e-abb9-4ef1-8cd0-e87ce96379f8",
   "metadata": {},
   "outputs": [],
   "source": [
    "def impute_age(cols):\n",
    "    Age = cols.iloc[0]\n",
    "    Pclass = cols.iloc[1]\n",
    "\n",
    "    if pd.isnull(Age):\n",
    "        if Pclass == 1:\n",
    "            return 37\n",
    "        elif Pclass == 2:\n",
    "            return 29\n",
    "        else:\n",
    "            return 24\n",
    "    else:\n",
    "        return Age\n",
    "# Impute age for missing values\n",
    "train['Age'] = train[['Age', 'Pclass']].apply(impute_age, axis=1)\n",
    "test['Age'] = test[['Age', 'Pclass']].apply(impute_age, axis=1)"
   ]
  },
  {
   "cell_type": "markdown",
   "id": "29a5c4fc",
   "metadata": {},
   "source": [
    "Filled the missing fare on the test set with the mean of the fares. "
   ]
  },
  {
   "cell_type": "code",
   "execution_count": 16,
   "id": "4a0f8aba-cf4d-4447-b1ac-d6ab08a5beee",
   "metadata": {},
   "outputs": [],
   "source": [
    "test.fillna({'Fare': train['Fare'].mean()}, inplace=True)"
   ]
  },
  {
   "cell_type": "markdown",
   "id": "0715ed44",
   "metadata": {},
   "source": [
    "Cabin column dropped due to too many null values. Not a great way of using the data that is here. "
   ]
  },
  {
   "cell_type": "code",
   "execution_count": 17,
   "id": "13debb4a-16a5-45cb-8612-470e09269805",
   "metadata": {},
   "outputs": [],
   "source": [
    "train.drop('Cabin', axis=1, inplace=True)\n",
    "test.drop('Cabin', axis=1, inplace=True)"
   ]
  },
  {
   "cell_type": "code",
   "execution_count": 18,
   "id": "86eb7a75-b7f3-496f-9574-43418ff408b8",
   "metadata": {},
   "outputs": [
    {
     "data": {
      "image/png": "[encoded data removed]",
      "text/plain": [
       "<Figure size 640x480 with 2 Axes>"
      ]
     },
     "metadata": {},
     "output_type": "display_data"
    },
    {
     "data": {
      "image/png": "[encoded data removed]",
      "text/plain": [
       "<Figure size 640x480 with 2 Axes>"
      ]
     },
     "metadata": {},
     "output_type": "display_data"
    }
   ],
   "source": [
    "for data in datasets:\n",
    "    fig, ax = plt.subplots(1,1)\n",
    "    ax.set_title(data['TT'][0])\n",
    "\n",
    "    ax = sns.heatmap(data.isnull(), yticklabels=False, cmap='viridis')"
   ]
  },
  {
   "cell_type": "markdown",
   "id": "493c9108",
   "metadata": {},
   "source": [
    "Not visible on the training heatmap are 2 Embarked null values. Will just fill them as 'S' embarked as it's most common."
   ]
  },
  {
   "cell_type": "code",
   "execution_count": 19,
   "id": "bc180d23-c937-485a-a28c-fbdf7436612e",
   "metadata": {},
   "outputs": [
    {
     "data": {
      "text/plain": [
       "Embarked       2\n",
       "PassengerId    0\n",
       "Survived       0\n",
       "Pclass         0\n",
       "Name           0\n",
       "Sex            0\n",
       "Age            0\n",
       "SibSp          0\n",
       "Parch          0\n",
       "Ticket         0\n",
       "Fare           0\n",
       "TT             0\n",
       "dtype: int64"
      ]
     },
     "execution_count": 19,
     "metadata": {},
     "output_type": "execute_result"
    }
   ],
   "source": [
    "train.isnull().sum().sort_values(ascending = False)"
   ]
  },
  {
   "cell_type": "code",
   "execution_count": 20,
   "id": "e4ab1ad2-6105-41d2-a831-2d93726ea2e2",
   "metadata": {},
   "outputs": [
    {
     "data": {
      "text/plain": [
       "Embarked\n",
       "S    644\n",
       "C    168\n",
       "Q     77\n",
       "Name: count, dtype: int64"
      ]
     },
     "execution_count": 20,
     "metadata": {},
     "output_type": "execute_result"
    }
   ],
   "source": [
    "train['Embarked'].value_counts()"
   ]
  },
  {
   "cell_type": "code",
   "execution_count": 21,
   "id": "5e8fac66-8043-4017-897c-0a7b58a9ca16",
   "metadata": {},
   "outputs": [],
   "source": [
    "train['Embarked'].fillna('S', inplace=True)"
   ]
  },
  {
   "cell_type": "markdown",
   "id": "211a05b3",
   "metadata": {},
   "source": [
    "No more null values"
   ]
  },
  {
   "cell_type": "code",
   "execution_count": 22,
   "id": "748938b4-8f55-49ce-beb9-a50b46f7baad",
   "metadata": {},
   "outputs": [
    {
     "data": {
      "image/png": "[encoded data removed]",
      "text/plain": [
       "<Figure size 640x480 with 2 Axes>"
      ]
     },
     "metadata": {},
     "output_type": "display_data"
    },
    {
     "data": {
      "image/png": "[encoded data removed]",
      "text/plain": [
       "<Figure size 640x480 with 2 Axes>"
      ]
     },
     "metadata": {},
     "output_type": "display_data"
    }
   ],
   "source": [
    "for data in datasets:\n",
    "    fig, ax = plt.subplots(1,1)\n",
    "    ax.set_title(data['TT'][0])\n",
    "\n",
    "    ax = sns.heatmap(data.isnull(), yticklabels=False, cmap='viridis')"
   ]
  },
  {
   "cell_type": "markdown",
   "id": "77c0fe80",
   "metadata": {},
   "source": [
    "## 3. Feature Engineering"
   ]
  },
  {
   "cell_type": "markdown",
   "id": "da3e861c",
   "metadata": {},
   "source": [
    "### Title\n",
    "Created from the Name column"
   ]
  },
  {
   "cell_type": "code",
   "execution_count": 23,
   "id": "9d1ccf21-d51d-46a9-a786-a427d07bef20",
   "metadata": {},
   "outputs": [
    {
     "data": {
      "text/plain": [
       "0                              Braund, Mr. Owen Harris\n",
       "1    Cumings, Mrs. John Bradley (Florence Briggs Th...\n",
       "2                               Heikkinen, Miss. Laina\n",
       "3         Futrelle, Mrs. Jacques Heath (Lily May Peel)\n",
       "4                             Allen, Mr. William Henry\n",
       "Name: Name, dtype: object"
      ]
     },
     "execution_count": 23,
     "metadata": {},
     "output_type": "execute_result"
    }
   ],
   "source": [
    "train['Name'].head()"
   ]
  },
  {
   "cell_type": "code",
   "execution_count": 24,
   "id": "a8b3a725-dc67-4688-8a3c-1cf386ae651e",
   "metadata": {},
   "outputs": [
    {
     "data": {
      "text/html": [
       "<div>\n",
       "<style scoped>\n",
       "    .dataframe tbody tr th:only-of-type {\n",
       "        vertical-align: middle;\n",
       "    }\n",
       "\n",
       "    .dataframe tbody tr th {\n",
       "        vertical-align: top;\n",
       "    }\n",
       "\n",
       "    .dataframe thead th {\n",
       "        text-align: right;\n",
       "    }\n",
       "</style>\n",
       "<table border=\"1\" class=\"dataframe\">\n",
       "  <thead>\n",
       "    <tr style=\"text-align: right;\">\n",
       "      <th></th>\n",
       "      <th>Name</th>\n",
       "      <th>Title</th>\n",
       "    </tr>\n",
       "  </thead>\n",
       "  <tbody>\n",
       "    <tr>\n",
       "      <th>0</th>\n",
       "      <td>Braund, Mr. Owen Harris</td>\n",
       "      <td>Mr</td>\n",
       "    </tr>\n",
       "    <tr>\n",
       "      <th>1</th>\n",
       "      <td>Cumings, Mrs. John Bradley (Florence Briggs Th...</td>\n",
       "      <td>Mrs</td>\n",
       "    </tr>\n",
       "    <tr>\n",
       "      <th>2</th>\n",
       "      <td>Heikkinen, Miss. Laina</td>\n",
       "      <td>Miss</td>\n",
       "    </tr>\n",
       "    <tr>\n",
       "      <th>3</th>\n",
       "      <td>Futrelle, Mrs. Jacques Heath (Lily May Peel)</td>\n",
       "      <td>Mrs</td>\n",
       "    </tr>\n",
       "    <tr>\n",
       "      <th>4</th>\n",
       "      <td>Allen, Mr. William Henry</td>\n",
       "      <td>Mr</td>\n",
       "    </tr>\n",
       "  </tbody>\n",
       "</table>\n",
       "</div>"
      ],
      "text/plain": [
       "                                                Name Title\n",
       "0                            Braund, Mr. Owen Harris    Mr\n",
       "1  Cumings, Mrs. John Bradley (Florence Briggs Th...   Mrs\n",
       "2                             Heikkinen, Miss. Laina  Miss\n",
       "3       Futrelle, Mrs. Jacques Heath (Lily May Peel)   Mrs\n",
       "4                           Allen, Mr. William Henry    Mr"
      ]
     },
     "execution_count": 24,
     "metadata": {},
     "output_type": "execute_result"
    }
   ],
   "source": [
    "train['Title'] = [name.split('.')[0].split(',')[1].replace(\" \", \"\") for name in train['Name']]\n",
    "train[['Name', 'Title']].head()"
   ]
  },
  {
   "cell_type": "code",
   "execution_count": 25,
   "id": "cd7e946a-236f-4663-b4ae-4686bfb1f757",
   "metadata": {},
   "outputs": [
    {
     "data": {
      "text/plain": [
       "Title\n",
       "Mr             517\n",
       "Miss           182\n",
       "Mrs            125\n",
       "Master          40\n",
       "Dr               7\n",
       "Rev              6\n",
       "Mlle             2\n",
       "Major            2\n",
       "Col              2\n",
       "theCountess      1\n",
       "Capt             1\n",
       "Ms               1\n",
       "Sir              1\n",
       "Lady             1\n",
       "Mme              1\n",
       "Don              1\n",
       "Jonkheer         1\n",
       "Name: count, dtype: int64"
      ]
     },
     "execution_count": 25,
     "metadata": {},
     "output_type": "execute_result"
    }
   ],
   "source": [
    "train['Title'].value_counts()"
   ]
  },
  {
   "cell_type": "code",
   "execution_count": 26,
   "id": "9c0702a3-a3bb-4ae1-a4d5-8efaeda8e611",
   "metadata": {},
   "outputs": [],
   "source": [
    "def title_conv(title):\n",
    "    if title == 'Major' or title == 'Col' or title == 'Capt':\n",
    "        title = 'Male - Military'\n",
    "    elif title == 'Mlle' or title == 'Mme' or title == 'Ms':\n",
    "        title = 'Miss'\n",
    "    elif title == 'theCountess' or title == 'Lady' or title == 'Sir'\\\n",
    "            or title == 'Don' or title == 'Dona' or title == 'Jonkheer':\n",
    "        title = 'Other'\n",
    "\n",
    "    return title\n",
    "\n",
    "train['Title'] = train['Title'].apply(title_conv)"
   ]
  },
  {
   "cell_type": "code",
   "execution_count": 27,
   "id": "c9408e17-b51d-47c9-8fb4-dd580aa1098b",
   "metadata": {},
   "outputs": [
    {
     "data": {
      "text/plain": [
       "Title\n",
       "Mr                 517\n",
       "Miss               186\n",
       "Mrs                125\n",
       "Master              40\n",
       "Dr                   7\n",
       "Rev                  6\n",
       "Other                5\n",
       "Male - Military      5\n",
       "Name: count, dtype: int64"
      ]
     },
     "execution_count": 27,
     "metadata": {},
     "output_type": "execute_result"
    }
   ],
   "source": [
    "train['Title'].value_counts()"
   ]
  },
  {
   "cell_type": "code",
   "execution_count": 28,
   "id": "b2d52496-3226-4f1c-aed6-742c86fe4e5b",
   "metadata": {},
   "outputs": [
    {
     "data": {
      "text/html": [
       "<div>\n",
       "<style scoped>\n",
       "    .dataframe tbody tr th:only-of-type {\n",
       "        vertical-align: middle;\n",
       "    }\n",
       "\n",
       "    .dataframe tbody tr th {\n",
       "        vertical-align: top;\n",
       "    }\n",
       "\n",
       "    .dataframe thead th {\n",
       "        text-align: right;\n",
       "    }\n",
       "</style>\n",
       "<table border=\"1\" class=\"dataframe\">\n",
       "  <thead>\n",
       "    <tr style=\"text-align: right;\">\n",
       "      <th></th>\n",
       "      <th>Title</th>\n",
       "      <th>Survived</th>\n",
       "    </tr>\n",
       "  </thead>\n",
       "  <tbody>\n",
       "    <tr>\n",
       "      <th>5</th>\n",
       "      <td>Mrs</td>\n",
       "      <td>0.792000</td>\n",
       "    </tr>\n",
       "    <tr>\n",
       "      <th>3</th>\n",
       "      <td>Miss</td>\n",
       "      <td>0.704301</td>\n",
       "    </tr>\n",
       "    <tr>\n",
       "      <th>6</th>\n",
       "      <td>Other</td>\n",
       "      <td>0.600000</td>\n",
       "    </tr>\n",
       "    <tr>\n",
       "      <th>2</th>\n",
       "      <td>Master</td>\n",
       "      <td>0.575000</td>\n",
       "    </tr>\n",
       "    <tr>\n",
       "      <th>0</th>\n",
       "      <td>Dr</td>\n",
       "      <td>0.428571</td>\n",
       "    </tr>\n",
       "    <tr>\n",
       "      <th>1</th>\n",
       "      <td>Male - Military</td>\n",
       "      <td>0.400000</td>\n",
       "    </tr>\n",
       "    <tr>\n",
       "      <th>4</th>\n",
       "      <td>Mr</td>\n",
       "      <td>0.156673</td>\n",
       "    </tr>\n",
       "    <tr>\n",
       "      <th>7</th>\n",
       "      <td>Rev</td>\n",
       "      <td>0.000000</td>\n",
       "    </tr>\n",
       "  </tbody>\n",
       "</table>\n",
       "</div>"
      ],
      "text/plain": [
       "             Title  Survived\n",
       "5              Mrs  0.792000\n",
       "3             Miss  0.704301\n",
       "6            Other  0.600000\n",
       "2           Master  0.575000\n",
       "0               Dr  0.428571\n",
       "1  Male - Military  0.400000\n",
       "4               Mr  0.156673\n",
       "7              Rev  0.000000"
      ]
     },
     "execution_count": 28,
     "metadata": {},
     "output_type": "execute_result"
    }
   ],
   "source": [
    "train[['Title', 'Survived']].groupby(['Title'], as_index = False).mean().sort_values(by = 'Survived', ascending = False)"
   ]
  },
  {
   "cell_type": "code",
   "execution_count": 29,
   "id": "cafdb67c-ea94-4ab1-9b99-a618c3ca4ad4",
   "metadata": {},
   "outputs": [
    {
     "data": {
      "text/plain": [
       "Text(0.5, 1.0, 'Mean of survival by Title')"
      ]
     },
     "execution_count": 29,
     "metadata": {},
     "output_type": "execute_result"
    },
    {
     "data": {
      "image/png": "[encoded data removed]",
      "text/plain": [
       "<Figure size 640x480 with 1 Axes>"
      ]
     },
     "metadata": {},
     "output_type": "display_data"
    }
   ],
   "source": [
    "sns.barplot(x = 'Title', y ='Survived', data = train)\n",
    "plt.ylabel('Survival Probability')\n",
    "plt.title('Mean of survival by Title')"
   ]
  },
  {
   "cell_type": "code",
   "execution_count": 30,
   "id": "245fb257-555b-4756-a3a3-d044337b09a4",
   "metadata": {},
   "outputs": [
    {
     "data": {
      "text/plain": [
       "Title\n",
       "Mr                 240\n",
       "Miss                79\n",
       "Mrs                 72\n",
       "Master              21\n",
       "Male - Military      2\n",
       "Rev                  2\n",
       "Dr                   1\n",
       "Other                1\n",
       "Name: count, dtype: int64"
      ]
     },
     "execution_count": 30,
     "metadata": {},
     "output_type": "execute_result"
    }
   ],
   "source": [
    "test['Title'] = [name.split('.')[0].split(',')[1].replace(\" \", \"\") for name in test['Name']]\n",
    "test['Title'] = test['Title'].apply(title_conv)\n",
    "test['Title'].value_counts()"
   ]
  },
  {
   "cell_type": "markdown",
   "id": "a2b52df3",
   "metadata": {},
   "source": [
    "### Ticket\n",
    "Had to analyse the most common prefixes as well as noting which tickets were simply integers to make use of the column. "
   ]
  },
  {
   "cell_type": "code",
   "execution_count": 31,
   "id": "1be1c09f-4504-45d7-97bd-c334928f316d",
   "metadata": {},
   "outputs": [
    {
     "data": {
      "text/plain": [
       "0            A/5 21171\n",
       "1             PC 17599\n",
       "2     STON/O2. 3101282\n",
       "3               113803\n",
       "4               373450\n",
       "5               330877\n",
       "6                17463\n",
       "7               349909\n",
       "8               347742\n",
       "9               237736\n",
       "10             PP 9549\n",
       "11              113783\n",
       "12           A/5. 2151\n",
       "13              347082\n",
       "14              350406\n",
       "15              248706\n",
       "16              382652\n",
       "17              244373\n",
       "18              345763\n",
       "19                2649\n",
       "20              239865\n",
       "21              248698\n",
       "22              330923\n",
       "23              113788\n",
       "24              349909\n",
       "Name: Ticket, dtype: object"
      ]
     },
     "execution_count": 31,
     "metadata": {},
     "output_type": "execute_result"
    }
   ],
   "source": [
    "train['Ticket'].head(25)"
   ]
  },
  {
   "cell_type": "code",
   "execution_count": 32,
   "id": "33e19252-385d-4746-8710-69de6b8f5231",
   "metadata": {},
   "outputs": [
    {
     "data": {
      "text/plain": [
       "Ticket\n",
       "347082      7\n",
       "CA. 2343    7\n",
       "1601        7\n",
       "3101295     6\n",
       "CA 2144     6\n",
       "           ..\n",
       "9234        1\n",
       "19988       1\n",
       "2693        1\n",
       "PC 17612    1\n",
       "370376      1\n",
       "Name: count, Length: 681, dtype: int64"
      ]
     },
     "execution_count": 32,
     "metadata": {},
     "output_type": "execute_result"
    }
   ],
   "source": [
    "train['Ticket'].value_counts()"
   ]
  },
  {
   "cell_type": "code",
   "execution_count": 33,
   "id": "787b0d91-811d-4d42-94bd-4d233fc32160",
   "metadata": {},
   "outputs": [],
   "source": [
    "def ticket_conv(ticketcol):\n",
    "    tick = (ticketcol.split(' ')[0])\n",
    "    if tick.isdigit():\n",
    "        tick = 'Int'\n",
    "    else:\n",
    "        return tick\n",
    "\n",
    "    return tick\n",
    "\n",
    "train['Ticket'] = train['Ticket'].apply(ticket_conv)"
   ]
  },
  {
   "cell_type": "code",
   "execution_count": 34,
   "id": "7cc08637-3415-4bc9-b8e1-7da71ed870ac",
   "metadata": {},
   "outputs": [
    {
     "data": {
      "text/plain": [
       "0          A/5\n",
       "1           PC\n",
       "2     STON/O2.\n",
       "3          Int\n",
       "4          Int\n",
       "5          Int\n",
       "6          Int\n",
       "7          Int\n",
       "8          Int\n",
       "9          Int\n",
       "10          PP\n",
       "11         Int\n",
       "12        A/5.\n",
       "13         Int\n",
       "14         Int\n",
       "15         Int\n",
       "16         Int\n",
       "17         Int\n",
       "18         Int\n",
       "19         Int\n",
       "20         Int\n",
       "21         Int\n",
       "22         Int\n",
       "23         Int\n",
       "24         Int\n",
       "Name: Ticket, dtype: object"
      ]
     },
     "execution_count": 34,
     "metadata": {},
     "output_type": "execute_result"
    }
   ],
   "source": [
    "train['Ticket'].head(25)"
   ]
  },
  {
   "cell_type": "code",
   "execution_count": 35,
   "id": "b14708c1-c61e-4396-8b01-4f1e28b33c6a",
   "metadata": {},
   "outputs": [
    {
     "data": {
      "text/plain": [
       "44"
      ]
     },
     "execution_count": 35,
     "metadata": {},
     "output_type": "execute_result"
    }
   ],
   "source": [
    "train['Ticket'].nunique()"
   ]
  },
  {
   "cell_type": "code",
   "execution_count": 36,
   "id": "5b4b4884-04fb-40ee-a2c4-c54777b15fc6",
   "metadata": {},
   "outputs": [
    {
     "data": {
      "text/plain": [
       "Ticket\n",
       "Int           661\n",
       "PC             60\n",
       "C.A.           27\n",
       "STON/O         12\n",
       "A/5            10\n",
       "W./C.           9\n",
       "CA.             8\n",
       "SOTON/O.Q.      8\n",
       "A/5.            7\n",
       "SOTON/OQ        7\n",
       "STON/O2.        6\n",
       "CA              6\n",
       "F.C.C.          5\n",
       "C               5\n",
       "SC/PARIS        5\n",
       "S.O.C.          5\n",
       "SC/Paris        4\n",
       "LINE            4\n",
       "A/4             3\n",
       "PP              3\n",
       "A/4.            3\n",
       "S.O./P.P.       3\n",
       "SC/AH           3\n",
       "A.5.            2\n",
       "A./5.           2\n",
       "P/PP            2\n",
       "WE/P            2\n",
       "SOTON/O2        2\n",
       "S.C./PARIS      2\n",
       "S.W./PP         1\n",
       "F.C.            1\n",
       "A/S             1\n",
       "SO/C            1\n",
       "W/C             1\n",
       "SC              1\n",
       "SCO/W           1\n",
       "SW/PP           1\n",
       "Fa              1\n",
       "S.O.P.          1\n",
       "S.C./A.4.       1\n",
       "A4.             1\n",
       "S.P.            1\n",
       "W.E.P.          1\n",
       "C.A./SOTON      1\n",
       "Name: count, dtype: int64"
      ]
     },
     "execution_count": 36,
     "metadata": {},
     "output_type": "execute_result"
    }
   ],
   "source": [
    "train['Ticket'].value_counts()"
   ]
  },
  {
   "cell_type": "code",
   "execution_count": 37,
   "id": "528fcb56-66a8-4d0a-9a30-f6f4033370f5",
   "metadata": {},
   "outputs": [],
   "source": [
    "train['Ticket'] = train['Ticket'].apply(lambda x: x.replace('.', ''))"
   ]
  },
  {
   "cell_type": "code",
   "execution_count": 38,
   "id": "1d93fee7-ba71-4dd1-aa25-8bca926d7bfb",
   "metadata": {},
   "outputs": [
    {
     "data": {
      "text/plain": [
       "Ticket\n",
       "Int         661\n",
       "PC           60\n",
       "CA           41\n",
       "A/5          19\n",
       "SOTON/OQ     15\n",
       "STON/O       12\n",
       "W/C          10\n",
       "SC/PARIS      7\n",
       "STON/O2       6\n",
       "A/4           6\n",
       "FCC           5\n",
       "C             5\n",
       "SOC           5\n",
       "SC/Paris      4\n",
       "LINE          4\n",
       "PP            3\n",
       "SO/PP         3\n",
       "SC/AH         3\n",
       "P/PP          2\n",
       "SOTON/O2      2\n",
       "WE/P          2\n",
       "A5            2\n",
       "SW/PP         2\n",
       "FC            1\n",
       "A/S           1\n",
       "SC            1\n",
       "SO/C          1\n",
       "SCO/W         1\n",
       "Fa            1\n",
       "SOP           1\n",
       "SC/A4         1\n",
       "A4            1\n",
       "SP            1\n",
       "WEP           1\n",
       "CA/SOTON      1\n",
       "Name: count, dtype: int64"
      ]
     },
     "execution_count": 38,
     "metadata": {},
     "output_type": "execute_result"
    }
   ],
   "source": [
    "train['Ticket'].value_counts()"
   ]
  },
  {
   "cell_type": "code",
   "execution_count": 39,
   "id": "3a7140b6-144c-4320-83bc-cc5c64240c1b",
   "metadata": {},
   "outputs": [
    {
     "data": {
      "text/plain": [
       "Ticket\n",
       "Int             661\n",
       "String_Other     73\n",
       "PC               60\n",
       "CA               41\n",
       "A/5              19\n",
       "SOTON/OQ         15\n",
       "STON/O           12\n",
       "W/C              10\n",
       "Name: count, dtype: int64"
      ]
     },
     "execution_count": 39,
     "metadata": {},
     "output_type": "execute_result"
    }
   ],
   "source": [
    "def further_ticket_conv(ticket):\n",
    "    if ticket == 'Int':\n",
    "        pass\n",
    "    elif ticket not in ['PC', 'CA', 'A/5', 'SOTON/OQ',  'STON/O', 'W/C']:\n",
    "        ticket = 'String_Other'\n",
    "    else:\n",
    "        pass\n",
    "    \n",
    "    return ticket\n",
    "\n",
    "train['Ticket'] = train['Ticket'].apply(further_ticket_conv)\n",
    "train['Ticket'].value_counts()"
   ]
  },
  {
   "cell_type": "code",
   "execution_count": 40,
   "id": "2c6bbcd9-f8cf-49cf-959b-8685865a5821",
   "metadata": {},
   "outputs": [
    {
     "data": {
      "text/plain": [
       "Text(0.5, 1.0, 'Mean of survival by Ticket')"
      ]
     },
     "execution_count": 40,
     "metadata": {},
     "output_type": "execute_result"
    },
    {
     "data": {
      "image/png": "[encoded data removed]",
      "text/plain": [
       "<Figure size 640x480 with 1 Axes>"
      ]
     },
     "metadata": {},
     "output_type": "display_data"
    }
   ],
   "source": [
    "train[['Ticket', 'Survived']].groupby(['Ticket'], as_index = False).mean().sort_values(by = 'Survived', ascending = False)\n",
    "sns.barplot(x = 'Ticket', y ='Survived', data = train)\n",
    "plt.ylabel('Survival Probability')\n",
    "plt.title('Mean of survival by Ticket')"
   ]
  },
  {
   "cell_type": "markdown",
   "id": "d0de9abe",
   "metadata": {},
   "source": [
    "Apply the conversions to the test data"
   ]
  },
  {
   "cell_type": "code",
   "execution_count": 41,
   "id": "c7854558-0719-4012-a978-aedafffd1b65",
   "metadata": {},
   "outputs": [
    {
     "data": {
      "text/plain": [
       "Ticket\n",
       "Int             296\n",
       "String_Other     41\n",
       "PC               32\n",
       "CA               27\n",
       "SOTON/OQ          9\n",
       "A/5               6\n",
       "W/C               5\n",
       "STON/O            2\n",
       "Name: count, dtype: int64"
      ]
     },
     "execution_count": 41,
     "metadata": {},
     "output_type": "execute_result"
    }
   ],
   "source": [
    "test['Ticket'] = test['Ticket'].apply(ticket_conv)\n",
    "test['Ticket'] = test['Ticket'].apply(lambda x: x.replace('.', ''))\n",
    "test['Ticket'] = test['Ticket'].apply(further_ticket_conv)\n",
    "test['Ticket'].value_counts()"
   ]
  },
  {
   "cell_type": "code",
   "execution_count": 42,
   "id": "38ac8390-4326-4c7a-905f-21ae0c8e9251",
   "metadata": {},
   "outputs": [
    {
     "name": "stdout",
     "output_type": "stream",
     "text": [
      "<class 'pandas.core.frame.DataFrame'>\n",
      "RangeIndex: 891 entries, 0 to 890\n",
      "Data columns (total 13 columns):\n",
      " #   Column       Non-Null Count  Dtype  \n",
      "---  ------       --------------  -----  \n",
      " 0   PassengerId  891 non-null    int64  \n",
      " 1   Survived     891 non-null    int32  \n",
      " 2   Pclass       891 non-null    int32  \n",
      " 3   Name         891 non-null    object \n",
      " 4   Sex          891 non-null    object \n",
      " 5   Age          891 non-null    float64\n",
      " 6   SibSp        891 non-null    int64  \n",
      " 7   Parch        891 non-null    int64  \n",
      " 8   Ticket       891 non-null    object \n",
      " 9   Fare         891 non-null    float64\n",
      " 10  Embarked     891 non-null    object \n",
      " 11  TT           891 non-null    object \n",
      " 12  Title        891 non-null    object \n",
      "dtypes: float64(2), int32(2), int64(3), object(6)\n",
      "memory usage: 83.7+ KB\n"
     ]
    }
   ],
   "source": [
    "train.info()"
   ]
  },
  {
   "cell_type": "code",
   "execution_count": 43,
   "id": "b791a578-5d23-4d1d-a281-27d0d9ff727c",
   "metadata": {},
   "outputs": [],
   "source": [
    "# Create dummy dataframes to convert string values to booleans\n",
    "for data in datasets:\n",
    "    #CREATE DUMMY DATAFRAMES TO CONVERT SEX TO A BOOLEAN VALUE FOR ISMALE\n",
    "    sex = pd.get_dummies(data['Sex'], drop_first=True)\n",
    "\n",
    "    #CREATE DUMMY DATAFRAME FOR EMBARKED VALUES.\n",
    "    embarked = pd.get_dummies(data['Embarked'], drop_first=True)\n",
    "\n",
    "    # CREATE DUMMY DATAFRAME FOR TICKET VALUES.\n",
    "    dummy_tickets = pd.get_dummies(data['Ticket'], drop_first=True)\n",
    "    #print(dummy_tickets.head(5).to_string())\n",
    "\n",
    "    # CREATE DUMMY DATAFRAME FOR TITLE VALUES.\n",
    "    dummy_titles = pd.get_dummies(data['Title'], drop_first=True)\n",
    "    #print(dummy_titles.head(5).to_string())\n",
    "\n",
    "    test_or_train_id = data['TT'][0]\n",
    "    #DROP STRING FIELDS THAT THE MODEL CAN'T DO ANYTHING WITH\n",
    "    data.drop(['Sex', 'Embarked', 'Name', 'TT', 'Ticket', 'Title'], axis=1, inplace=True)\n",
    "\n",
    "    #ADD DUMMY DATAFRAMES TO THE DATA\n",
    "    if test_or_train_id == 'TRAIN':\n",
    "        train_data = pd.concat([data,sex,embarked, dummy_titles, dummy_tickets], axis=1)\n",
    "    else:\n",
    "        test_data = pd.concat([data,sex,embarked, dummy_titles, dummy_tickets], axis=1)"
   ]
  },
  {
   "cell_type": "code",
   "execution_count": 44,
   "id": "24356c13-a71f-42c3-a432-642273fc1824",
   "metadata": {},
   "outputs": [
    {
     "data": {
      "text/html": [
       "<div>\n",
       "<style scoped>\n",
       "    .dataframe tbody tr th:only-of-type {\n",
       "        vertical-align: middle;\n",
       "    }\n",
       "\n",
       "    .dataframe tbody tr th {\n",
       "        vertical-align: top;\n",
       "    }\n",
       "\n",
       "    .dataframe thead th {\n",
       "        text-align: right;\n",
       "    }\n",
       "</style>\n",
       "<table border=\"1\" class=\"dataframe\">\n",
       "  <thead>\n",
       "    <tr style=\"text-align: right;\">\n",
       "      <th></th>\n",
       "      <th>PassengerId</th>\n",
       "      <th>Survived</th>\n",
       "      <th>Pclass</th>\n",
       "      <th>Age</th>\n",
       "      <th>SibSp</th>\n",
       "      <th>Parch</th>\n",
       "      <th>Fare</th>\n",
       "      <th>male</th>\n",
       "      <th>Q</th>\n",
       "      <th>S</th>\n",
       "      <th>...</th>\n",
       "      <th>Mrs</th>\n",
       "      <th>Other</th>\n",
       "      <th>Rev</th>\n",
       "      <th>CA</th>\n",
       "      <th>Int</th>\n",
       "      <th>PC</th>\n",
       "      <th>SOTON/OQ</th>\n",
       "      <th>STON/O</th>\n",
       "      <th>String_Other</th>\n",
       "      <th>W/C</th>\n",
       "    </tr>\n",
       "  </thead>\n",
       "  <tbody>\n",
       "    <tr>\n",
       "      <th>0</th>\n",
       "      <td>1</td>\n",
       "      <td>0</td>\n",
       "      <td>3</td>\n",
       "      <td>22.0</td>\n",
       "      <td>1</td>\n",
       "      <td>0</td>\n",
       "      <td>7.2500</td>\n",
       "      <td>True</td>\n",
       "      <td>False</td>\n",
       "      <td>True</td>\n",
       "      <td>...</td>\n",
       "      <td>False</td>\n",
       "      <td>False</td>\n",
       "      <td>False</td>\n",
       "      <td>False</td>\n",
       "      <td>False</td>\n",
       "      <td>False</td>\n",
       "      <td>False</td>\n",
       "      <td>False</td>\n",
       "      <td>False</td>\n",
       "      <td>False</td>\n",
       "    </tr>\n",
       "    <tr>\n",
       "      <th>1</th>\n",
       "      <td>2</td>\n",
       "      <td>1</td>\n",
       "      <td>1</td>\n",
       "      <td>38.0</td>\n",
       "      <td>1</td>\n",
       "      <td>0</td>\n",
       "      <td>71.2833</td>\n",
       "      <td>False</td>\n",
       "      <td>False</td>\n",
       "      <td>False</td>\n",
       "      <td>...</td>\n",
       "      <td>True</td>\n",
       "      <td>False</td>\n",
       "      <td>False</td>\n",
       "      <td>False</td>\n",
       "      <td>False</td>\n",
       "      <td>True</td>\n",
       "      <td>False</td>\n",
       "      <td>False</td>\n",
       "      <td>False</td>\n",
       "      <td>False</td>\n",
       "    </tr>\n",
       "    <tr>\n",
       "      <th>2</th>\n",
       "      <td>3</td>\n",
       "      <td>1</td>\n",
       "      <td>3</td>\n",
       "      <td>26.0</td>\n",
       "      <td>0</td>\n",
       "      <td>0</td>\n",
       "      <td>7.9250</td>\n",
       "      <td>False</td>\n",
       "      <td>False</td>\n",
       "      <td>True</td>\n",
       "      <td>...</td>\n",
       "      <td>False</td>\n",
       "      <td>False</td>\n",
       "      <td>False</td>\n",
       "      <td>False</td>\n",
       "      <td>False</td>\n",
       "      <td>False</td>\n",
       "      <td>False</td>\n",
       "      <td>False</td>\n",
       "      <td>True</td>\n",
       "      <td>False</td>\n",
       "    </tr>\n",
       "    <tr>\n",
       "      <th>3</th>\n",
       "      <td>4</td>\n",
       "      <td>1</td>\n",
       "      <td>1</td>\n",
       "      <td>35.0</td>\n",
       "      <td>1</td>\n",
       "      <td>0</td>\n",
       "      <td>53.1000</td>\n",
       "      <td>False</td>\n",
       "      <td>False</td>\n",
       "      <td>True</td>\n",
       "      <td>...</td>\n",
       "      <td>True</td>\n",
       "      <td>False</td>\n",
       "      <td>False</td>\n",
       "      <td>False</td>\n",
       "      <td>True</td>\n",
       "      <td>False</td>\n",
       "      <td>False</td>\n",
       "      <td>False</td>\n",
       "      <td>False</td>\n",
       "      <td>False</td>\n",
       "    </tr>\n",
       "    <tr>\n",
       "      <th>4</th>\n",
       "      <td>5</td>\n",
       "      <td>0</td>\n",
       "      <td>3</td>\n",
       "      <td>35.0</td>\n",
       "      <td>0</td>\n",
       "      <td>0</td>\n",
       "      <td>8.0500</td>\n",
       "      <td>True</td>\n",
       "      <td>False</td>\n",
       "      <td>True</td>\n",
       "      <td>...</td>\n",
       "      <td>False</td>\n",
       "      <td>False</td>\n",
       "      <td>False</td>\n",
       "      <td>False</td>\n",
       "      <td>True</td>\n",
       "      <td>False</td>\n",
       "      <td>False</td>\n",
       "      <td>False</td>\n",
       "      <td>False</td>\n",
       "      <td>False</td>\n",
       "    </tr>\n",
       "  </tbody>\n",
       "</table>\n",
       "<p>5 rows × 24 columns</p>\n",
       "</div>"
      ],
      "text/plain": [
       "   PassengerId  Survived  Pclass   Age  SibSp  Parch     Fare   male      Q  \\\n",
       "0            1         0       3  22.0      1      0   7.2500   True  False   \n",
       "1            2         1       1  38.0      1      0  71.2833  False  False   \n",
       "2            3         1       3  26.0      0      0   7.9250  False  False   \n",
       "3            4         1       1  35.0      1      0  53.1000  False  False   \n",
       "4            5         0       3  35.0      0      0   8.0500   True  False   \n",
       "\n",
       "       S  ...    Mrs  Other    Rev     CA    Int     PC  SOTON/OQ  STON/O  \\\n",
       "0   True  ...  False  False  False  False  False  False     False   False   \n",
       "1  False  ...   True  False  False  False  False   True     False   False   \n",
       "2   True  ...  False  False  False  False  False  False     False   False   \n",
       "3   True  ...   True  False  False  False   True  False     False   False   \n",
       "4   True  ...  False  False  False  False   True  False     False   False   \n",
       "\n",
       "   String_Other    W/C  \n",
       "0         False  False  \n",
       "1         False  False  \n",
       "2          True  False  \n",
       "3         False  False  \n",
       "4         False  False  \n",
       "\n",
       "[5 rows x 24 columns]"
      ]
     },
     "execution_count": 44,
     "metadata": {},
     "output_type": "execute_result"
    }
   ],
   "source": [
    "train_data.head()"
   ]
  },
  {
   "cell_type": "markdown",
   "id": "a665bd2e",
   "metadata": {},
   "source": [
    "Data now in correct format for Machine Learning Model training. "
   ]
  },
  {
   "cell_type": "code",
   "execution_count": 45,
   "id": "0888b4b8-37c7-4305-a6da-d6a8cff6a7ee",
   "metadata": {},
   "outputs": [
    {
     "name": "stdout",
     "output_type": "stream",
     "text": [
      "<class 'pandas.core.frame.DataFrame'>\n",
      "RangeIndex: 891 entries, 0 to 890\n",
      "Data columns (total 24 columns):\n",
      " #   Column           Non-Null Count  Dtype  \n",
      "---  ------           --------------  -----  \n",
      " 0   PassengerId      891 non-null    int64  \n",
      " 1   Survived         891 non-null    int32  \n",
      " 2   Pclass           891 non-null    int32  \n",
      " 3   Age              891 non-null    float64\n",
      " 4   SibSp            891 non-null    int64  \n",
      " 5   Parch            891 non-null    int64  \n",
      " 6   Fare             891 non-null    float64\n",
      " 7   male             891 non-null    bool   \n",
      " 8   Q                891 non-null    bool   \n",
      " 9   S                891 non-null    bool   \n",
      " 10  Male - Military  891 non-null    bool   \n",
      " 11  Master           891 non-null    bool   \n",
      " 12  Miss             891 non-null    bool   \n",
      " 13  Mr               891 non-null    bool   \n",
      " 14  Mrs              891 non-null    bool   \n",
      " 15  Other            891 non-null    bool   \n",
      " 16  Rev              891 non-null    bool   \n",
      " 17  CA               891 non-null    bool   \n",
      " 18  Int              891 non-null    bool   \n",
      " 19  PC               891 non-null    bool   \n",
      " 20  SOTON/OQ         891 non-null    bool   \n",
      " 21  STON/O           891 non-null    bool   \n",
      " 22  String_Other     891 non-null    bool   \n",
      " 23  W/C              891 non-null    bool   \n",
      "dtypes: bool(17), float64(2), int32(2), int64(3)\n",
      "memory usage: 56.7 KB\n"
     ]
    }
   ],
   "source": [
    "train_data.info()"
   ]
  },
  {
   "cell_type": "code",
   "execution_count": 46,
   "id": "c4c7bfe1-2f84-42b0-99db-9a01064a98c7",
   "metadata": {},
   "outputs": [
    {
     "data": {
      "text/html": [
       "<div>\n",
       "<style scoped>\n",
       "    .dataframe tbody tr th:only-of-type {\n",
       "        vertical-align: middle;\n",
       "    }\n",
       "\n",
       "    .dataframe tbody tr th {\n",
       "        vertical-align: top;\n",
       "    }\n",
       "\n",
       "    .dataframe thead th {\n",
       "        text-align: right;\n",
       "    }\n",
       "</style>\n",
       "<table border=\"1\" class=\"dataframe\">\n",
       "  <thead>\n",
       "    <tr style=\"text-align: right;\">\n",
       "      <th></th>\n",
       "      <th>PassengerId</th>\n",
       "      <th>Pclass</th>\n",
       "      <th>Age</th>\n",
       "      <th>SibSp</th>\n",
       "      <th>Parch</th>\n",
       "      <th>Fare</th>\n",
       "      <th>male</th>\n",
       "      <th>Q</th>\n",
       "      <th>S</th>\n",
       "      <th>Male - Military</th>\n",
       "      <th>...</th>\n",
       "      <th>Mrs</th>\n",
       "      <th>Other</th>\n",
       "      <th>Rev</th>\n",
       "      <th>CA</th>\n",
       "      <th>Int</th>\n",
       "      <th>PC</th>\n",
       "      <th>SOTON/OQ</th>\n",
       "      <th>STON/O</th>\n",
       "      <th>String_Other</th>\n",
       "      <th>W/C</th>\n",
       "    </tr>\n",
       "  </thead>\n",
       "  <tbody>\n",
       "    <tr>\n",
       "      <th>0</th>\n",
       "      <td>892</td>\n",
       "      <td>3</td>\n",
       "      <td>34.5</td>\n",
       "      <td>0</td>\n",
       "      <td>0</td>\n",
       "      <td>7.8292</td>\n",
       "      <td>True</td>\n",
       "      <td>True</td>\n",
       "      <td>False</td>\n",
       "      <td>False</td>\n",
       "      <td>...</td>\n",
       "      <td>False</td>\n",
       "      <td>False</td>\n",
       "      <td>False</td>\n",
       "      <td>False</td>\n",
       "      <td>True</td>\n",
       "      <td>False</td>\n",
       "      <td>False</td>\n",
       "      <td>False</td>\n",
       "      <td>False</td>\n",
       "      <td>False</td>\n",
       "    </tr>\n",
       "    <tr>\n",
       "      <th>1</th>\n",
       "      <td>893</td>\n",
       "      <td>3</td>\n",
       "      <td>47.0</td>\n",
       "      <td>1</td>\n",
       "      <td>0</td>\n",
       "      <td>7.0000</td>\n",
       "      <td>False</td>\n",
       "      <td>False</td>\n",
       "      <td>True</td>\n",
       "      <td>False</td>\n",
       "      <td>...</td>\n",
       "      <td>True</td>\n",
       "      <td>False</td>\n",
       "      <td>False</td>\n",
       "      <td>False</td>\n",
       "      <td>True</td>\n",
       "      <td>False</td>\n",
       "      <td>False</td>\n",
       "      <td>False</td>\n",
       "      <td>False</td>\n",
       "      <td>False</td>\n",
       "    </tr>\n",
       "    <tr>\n",
       "      <th>2</th>\n",
       "      <td>894</td>\n",
       "      <td>2</td>\n",
       "      <td>62.0</td>\n",
       "      <td>0</td>\n",
       "      <td>0</td>\n",
       "      <td>9.6875</td>\n",
       "      <td>True</td>\n",
       "      <td>True</td>\n",
       "      <td>False</td>\n",
       "      <td>False</td>\n",
       "      <td>...</td>\n",
       "      <td>False</td>\n",
       "      <td>False</td>\n",
       "      <td>False</td>\n",
       "      <td>False</td>\n",
       "      <td>True</td>\n",
       "      <td>False</td>\n",
       "      <td>False</td>\n",
       "      <td>False</td>\n",
       "      <td>False</td>\n",
       "      <td>False</td>\n",
       "    </tr>\n",
       "    <tr>\n",
       "      <th>3</th>\n",
       "      <td>895</td>\n",
       "      <td>3</td>\n",
       "      <td>27.0</td>\n",
       "      <td>0</td>\n",
       "      <td>0</td>\n",
       "      <td>8.6625</td>\n",
       "      <td>True</td>\n",
       "      <td>False</td>\n",
       "      <td>True</td>\n",
       "      <td>False</td>\n",
       "      <td>...</td>\n",
       "      <td>False</td>\n",
       "      <td>False</td>\n",
       "      <td>False</td>\n",
       "      <td>False</td>\n",
       "      <td>True</td>\n",
       "      <td>False</td>\n",
       "      <td>False</td>\n",
       "      <td>False</td>\n",
       "      <td>False</td>\n",
       "      <td>False</td>\n",
       "    </tr>\n",
       "    <tr>\n",
       "      <th>4</th>\n",
       "      <td>896</td>\n",
       "      <td>3</td>\n",
       "      <td>22.0</td>\n",
       "      <td>1</td>\n",
       "      <td>1</td>\n",
       "      <td>12.2875</td>\n",
       "      <td>False</td>\n",
       "      <td>False</td>\n",
       "      <td>True</td>\n",
       "      <td>False</td>\n",
       "      <td>...</td>\n",
       "      <td>True</td>\n",
       "      <td>False</td>\n",
       "      <td>False</td>\n",
       "      <td>False</td>\n",
       "      <td>True</td>\n",
       "      <td>False</td>\n",
       "      <td>False</td>\n",
       "      <td>False</td>\n",
       "      <td>False</td>\n",
       "      <td>False</td>\n",
       "    </tr>\n",
       "  </tbody>\n",
       "</table>\n",
       "<p>5 rows × 23 columns</p>\n",
       "</div>"
      ],
      "text/plain": [
       "   PassengerId  Pclass   Age  SibSp  Parch     Fare   male      Q      S  \\\n",
       "0          892       3  34.5      0      0   7.8292   True   True  False   \n",
       "1          893       3  47.0      1      0   7.0000  False  False   True   \n",
       "2          894       2  62.0      0      0   9.6875   True   True  False   \n",
       "3          895       3  27.0      0      0   8.6625   True  False   True   \n",
       "4          896       3  22.0      1      1  12.2875  False  False   True   \n",
       "\n",
       "   Male - Military  ...    Mrs  Other    Rev     CA   Int     PC  SOTON/OQ  \\\n",
       "0            False  ...  False  False  False  False  True  False     False   \n",
       "1            False  ...   True  False  False  False  True  False     False   \n",
       "2            False  ...  False  False  False  False  True  False     False   \n",
       "3            False  ...  False  False  False  False  True  False     False   \n",
       "4            False  ...   True  False  False  False  True  False     False   \n",
       "\n",
       "   STON/O  String_Other    W/C  \n",
       "0   False         False  False  \n",
       "1   False         False  False  \n",
       "2   False         False  False  \n",
       "3   False         False  False  \n",
       "4   False         False  False  \n",
       "\n",
       "[5 rows x 23 columns]"
      ]
     },
     "execution_count": 46,
     "metadata": {},
     "output_type": "execute_result"
    }
   ],
   "source": [
    "test_data.head()"
   ]
  },
  {
   "cell_type": "code",
   "execution_count": 47,
   "id": "3d579b2c-192d-4a1e-ae82-1e350ecf4dd9",
   "metadata": {},
   "outputs": [
    {
     "name": "stdout",
     "output_type": "stream",
     "text": [
      "<class 'pandas.core.frame.DataFrame'>\n",
      "RangeIndex: 418 entries, 0 to 417\n",
      "Data columns (total 23 columns):\n",
      " #   Column           Non-Null Count  Dtype  \n",
      "---  ------           --------------  -----  \n",
      " 0   PassengerId      418 non-null    int64  \n",
      " 1   Pclass           418 non-null    int64  \n",
      " 2   Age              418 non-null    float64\n",
      " 3   SibSp            418 non-null    int64  \n",
      " 4   Parch            418 non-null    int64  \n",
      " 5   Fare             418 non-null    float64\n",
      " 6   male             418 non-null    bool   \n",
      " 7   Q                418 non-null    bool   \n",
      " 8   S                418 non-null    bool   \n",
      " 9   Male - Military  418 non-null    bool   \n",
      " 10  Master           418 non-null    bool   \n",
      " 11  Miss             418 non-null    bool   \n",
      " 12  Mr               418 non-null    bool   \n",
      " 13  Mrs              418 non-null    bool   \n",
      " 14  Other            418 non-null    bool   \n",
      " 15  Rev              418 non-null    bool   \n",
      " 16  CA               418 non-null    bool   \n",
      " 17  Int              418 non-null    bool   \n",
      " 18  PC               418 non-null    bool   \n",
      " 19  SOTON/OQ         418 non-null    bool   \n",
      " 20  STON/O           418 non-null    bool   \n",
      " 21  String_Other     418 non-null    bool   \n",
      " 22  W/C              418 non-null    bool   \n",
      "dtypes: bool(17), float64(2), int64(4)\n",
      "memory usage: 26.7 KB\n"
     ]
    }
   ],
   "source": [
    "test_data.info()"
   ]
  },
  {
   "cell_type": "markdown",
   "id": "fe0f878b",
   "metadata": {},
   "source": [
    "## 4. ML Modeling"
   ]
  },
  {
   "cell_type": "code",
   "execution_count": 48,
   "id": "650ddbfd-2d2b-4cc8-a607-4f629eecf4e0",
   "metadata": {},
   "outputs": [],
   "source": [
    "X_train = train_data.drop(['Survived', 'PassengerId'], axis=1)\n",
    "y_train = train_data['Survived']\n",
    "X_test = test_data.drop('PassengerId', axis=1)"
   ]
  },
  {
   "cell_type": "markdown",
   "id": "0f9f6634",
   "metadata": {},
   "source": [
    "Tested the accuracy of many different models to determine which would be the most suitable for predicting the surivival status of the test set."
   ]
  },
  {
   "cell_type": "code",
   "execution_count": 49,
   "id": "5c7aff33-8741-4623-adda-21e54c375e5d",
   "metadata": {},
   "outputs": [
    {
     "data": {
      "text/plain": [
       "83.5"
      ]
     },
     "execution_count": 49,
     "metadata": {},
     "output_type": "execute_result"
    }
   ],
   "source": [
    "# LogisticRegression\n",
    "logmodel = LogisticRegression(solver='lbfgs', max_iter=1000)\n",
    "logmodel.fit(X_train, y_train)\n",
    "logreg_predictions = logmodel.predict(X_test)\n",
    "acc_log = round(logmodel.score(X_train, y_train) * 100, 2)\n",
    "acc_log"
   ]
  },
  {
   "cell_type": "code",
   "execution_count": 50,
   "id": "7621b8e4-1ffa-4e16-8ce1-0703c24cc935",
   "metadata": {},
   "outputs": [
    {
     "data": {
      "text/plain": [
       "98.88"
      ]
     },
     "execution_count": 50,
     "metadata": {},
     "output_type": "execute_result"
    }
   ],
   "source": [
    "# DecisionTreeClassifier\n",
    "dtree = DecisionTreeClassifier()\n",
    "dtree.fit(X_train, y_train)\n",
    "tree_predictions = dtree.predict(X_test)\n",
    "acc_decision_tree = round(dtree.score(X_train, y_train) * 100, 2)\n",
    "acc_decision_tree"
   ]
  },
  {
   "cell_type": "code",
   "execution_count": 51,
   "id": "dab926c3-1e82-4180-a320-ef25246c2514",
   "metadata": {},
   "outputs": [
    {
     "data": {
      "text/plain": [
       "98.88"
      ]
     },
     "execution_count": 51,
     "metadata": {},
     "output_type": "execute_result"
    }
   ],
   "source": [
    "# RandomForestClassifier\n",
    "rf = RandomForestClassifier(n_estimators=700)\n",
    "rf.fit(X_train, y_train)\n",
    "forest_predictions = rf.predict(X_test)\n",
    "acc_random_forest = round(rf.score(X_train, y_train) * 100, 2)\n",
    "acc_random_forest"
   ]
  },
  {
   "cell_type": "code",
   "execution_count": 52,
   "id": "a2fba749-d098-42ef-a514-15ac596a26fe",
   "metadata": {},
   "outputs": [
    {
     "data": {
      "text/plain": [
       "68.57"
      ]
     },
     "execution_count": 52,
     "metadata": {},
     "output_type": "execute_result"
    }
   ],
   "source": [
    "# SVC\n",
    "svc = SVC()\n",
    "svc.fit(X_train, y_train)\n",
    "svc_predictions = svc.predict(X_test)\n",
    "acc_svc = round(svc.score(X_train, y_train) * 100, 2)\n",
    "acc_svc"
   ]
  },
  {
   "cell_type": "code",
   "execution_count": 53,
   "id": "3a1ee163-ac12-48f7-91cd-e5ec2824e02e",
   "metadata": {},
   "outputs": [
    {
     "name": "stdout",
     "output_type": "stream",
     "text": [
      "Fitting 5 folds for each of 25 candidates, totalling 125 fits\n",
      "[CV 1/5] END ....................C=0.1, gamma=1;, score=0.615 total time=   0.0s\n",
      "[CV 2/5] END ....................C=0.1, gamma=1;, score=0.624 total time=   0.0s\n",
      "[CV 3/5] END ....................C=0.1, gamma=1;, score=0.618 total time=   0.0s\n",
      "[CV 4/5] END ....................C=0.1, gamma=1;, score=0.618 total time=   0.1s\n",
      "[CV 5/5] END ....................C=0.1, gamma=1;, score=0.618 total time=   0.0s\n",
      "[CV 1/5] END ..................C=0.1, gamma=0.1;, score=0.615 total time=   0.0s\n",
      "[CV 2/5] END ..................C=0.1, gamma=0.1;, score=0.618 total time=   0.0s\n",
      "[CV 3/5] END ..................C=0.1, gamma=0.1;, score=0.618 total time=   0.1s\n",
      "[CV 4/5] END ..................C=0.1, gamma=0.1;, score=0.618 total time=   0.0s\n",
      "[CV 5/5] END ..................C=0.1, gamma=0.1;, score=0.612 total time=   0.0s\n",
      "[CV 1/5] END .................C=0.1, gamma=0.01;, score=0.603 total time=   0.0s\n",
      "[CV 2/5] END .................C=0.1, gamma=0.01;, score=0.646 total time=   0.0s\n",
      "[CV 3/5] END .................C=0.1, gamma=0.01;, score=0.691 total time=   0.0s\n",
      "[CV 4/5] END .................C=0.1, gamma=0.01;, score=0.640 total time=   0.0s\n",
      "[CV 5/5] END .................C=0.1, gamma=0.01;, score=0.674 total time=   0.0s\n",
      "[CV 1/5] END ................C=0.1, gamma=0.001;, score=0.559 total time=   0.0s\n",
      "[CV 2/5] END ................C=0.1, gamma=0.001;, score=0.713 total time=   0.0s\n",
      "[CV 3/5] END ................C=0.1, gamma=0.001;, score=0.685 total time=   0.0s\n",
      "[CV 4/5] END ................C=0.1, gamma=0.001;, score=0.685 total time=   0.0s\n",
      "[CV 5/5] END ................C=0.1, gamma=0.001;, score=0.691 total time=   0.0s\n",
      "[CV 1/5] END ...............C=0.1, gamma=0.0001;, score=0.598 total time=   0.0s\n",
      "[CV 2/5] END ...............C=0.1, gamma=0.0001;, score=0.708 total time=   0.0s\n",
      "[CV 3/5] END ...............C=0.1, gamma=0.0001;, score=0.663 total time=   0.0s\n",
      "[CV 4/5] END ...............C=0.1, gamma=0.0001;, score=0.674 total time=   0.0s\n",
      "[CV 5/5] END ...............C=0.1, gamma=0.0001;, score=0.669 total time=   0.0s\n",
      "[CV 1/5] END ......................C=1, gamma=1;, score=0.687 total time=   0.0s\n",
      "[CV 2/5] END ......................C=1, gamma=1;, score=0.640 total time=   0.0s\n",
      "[CV 3/5] END ......................C=1, gamma=1;, score=0.663 total time=   0.0s\n",
      "[CV 4/5] END ......................C=1, gamma=1;, score=0.646 total time=   0.0s\n",
      "[CV 5/5] END ......................C=1, gamma=1;, score=0.607 total time=   0.0s\n",
      "[CV 1/5] END ....................C=1, gamma=0.1;, score=0.670 total time=   0.0s\n",
      "[CV 2/5] END ....................C=1, gamma=0.1;, score=0.708 total time=   0.0s\n",
      "[CV 3/5] END ....................C=1, gamma=0.1;, score=0.736 total time=   0.0s\n",
      "[CV 4/5] END ....................C=1, gamma=0.1;, score=0.764 total time=   0.0s\n",
      "[CV 5/5] END ....................C=1, gamma=0.1;, score=0.753 total time=   0.0s\n",
      "[CV 1/5] END ...................C=1, gamma=0.01;, score=0.637 total time=   0.0s\n",
      "[CV 2/5] END ...................C=1, gamma=0.01;, score=0.742 total time=   0.0s\n",
      "[CV 3/5] END ...................C=1, gamma=0.01;, score=0.702 total time=   0.0s\n",
      "[CV 4/5] END ...................C=1, gamma=0.01;, score=0.725 total time=   0.0s\n",
      "[CV 5/5] END ...................C=1, gamma=0.01;, score=0.736 total time=   0.0s\n",
      "[CV 1/5] END ..................C=1, gamma=0.001;, score=0.598 total time=   0.0s\n",
      "[CV 2/5] END ..................C=1, gamma=0.001;, score=0.736 total time=   0.0s\n",
      "[CV 3/5] END ..................C=1, gamma=0.001;, score=0.708 total time=   0.0s\n",
      "[CV 4/5] END ..................C=1, gamma=0.001;, score=0.719 total time=   0.0s\n",
      "[CV 5/5] END ..................C=1, gamma=0.001;, score=0.736 total time=   0.0s\n",
      "[CV 1/5] END .................C=1, gamma=0.0001;, score=0.587 total time=   0.0s\n",
      "[CV 2/5] END .................C=1, gamma=0.0001;, score=0.713 total time=   0.0s\n",
      "[CV 3/5] END .................C=1, gamma=0.0001;, score=0.663 total time=   0.0s\n",
      "[CV 4/5] END .................C=1, gamma=0.0001;, score=0.685 total time=   0.0s\n",
      "[CV 5/5] END .................C=1, gamma=0.0001;, score=0.674 total time=   0.0s\n",
      "[CV 1/5] END .....................C=10, gamma=1;, score=0.670 total time=   0.0s\n",
      "[CV 2/5] END .....................C=10, gamma=1;, score=0.640 total time=   0.0s\n",
      "[CV 3/5] END .....................C=10, gamma=1;, score=0.663 total time=   0.0s\n",
      "[CV 4/5] END .....................C=10, gamma=1;, score=0.652 total time=   0.0s\n",
      "[CV 5/5] END .....................C=10, gamma=1;, score=0.629 total time=   0.0s\n",
      "[CV 1/5] END ...................C=10, gamma=0.1;, score=0.659 total time=   0.0s\n",
      "[CV 2/5] END ...................C=10, gamma=0.1;, score=0.713 total time=   0.0s\n",
      "[CV 3/5] END ...................C=10, gamma=0.1;, score=0.742 total time=   0.0s\n",
      "[CV 4/5] END ...................C=10, gamma=0.1;, score=0.742 total time=   0.0s\n",
      "[CV 5/5] END ...................C=10, gamma=0.1;, score=0.697 total time=   0.0s\n",
      "[CV 1/5] END ..................C=10, gamma=0.01;, score=0.749 total time=   0.0s\n",
      "[CV 2/5] END ..................C=10, gamma=0.01;, score=0.753 total time=   0.0s\n",
      "[CV 3/5] END ..................C=10, gamma=0.01;, score=0.781 total time=   0.0s\n",
      "[CV 4/5] END ..................C=10, gamma=0.01;, score=0.770 total time=   0.0s\n",
      "[CV 5/5] END ..................C=10, gamma=0.01;, score=0.787 total time=   0.0s\n",
      "[CV 1/5] END .................C=10, gamma=0.001;, score=0.754 total time=   0.0s\n",
      "[CV 2/5] END .................C=10, gamma=0.001;, score=0.798 total time=   0.0s\n",
      "[CV 3/5] END .................C=10, gamma=0.001;, score=0.781 total time=   0.0s\n",
      "[CV 4/5] END .................C=10, gamma=0.001;, score=0.792 total time=   0.0s\n",
      "[CV 5/5] END .................C=10, gamma=0.001;, score=0.798 total time=   0.0s\n",
      "[CV 1/5] END ................C=10, gamma=0.0001;, score=0.631 total time=   0.0s\n",
      "[CV 2/5] END ................C=10, gamma=0.0001;, score=0.730 total time=   0.0s\n",
      "[CV 3/5] END ................C=10, gamma=0.0001;, score=0.708 total time=   0.0s\n",
      "[CV 4/5] END ................C=10, gamma=0.0001;, score=0.719 total time=   0.0s\n",
      "[CV 5/5] END ................C=10, gamma=0.0001;, score=0.730 total time=   0.0s\n",
      "[CV 1/5] END ....................C=100, gamma=1;, score=0.670 total time=   0.0s\n",
      "[CV 2/5] END ....................C=100, gamma=1;, score=0.629 total time=   0.0s\n",
      "[CV 3/5] END ....................C=100, gamma=1;, score=0.663 total time=   0.0s\n",
      "[CV 4/5] END ....................C=100, gamma=1;, score=0.657 total time=   0.0s\n",
      "[CV 5/5] END ....................C=100, gamma=1;, score=0.635 total time=   0.0s\n",
      "[CV 1/5] END ..................C=100, gamma=0.1;, score=0.659 total time=   0.0s\n",
      "[CV 2/5] END ..................C=100, gamma=0.1;, score=0.691 total time=   0.0s\n",
      "[CV 3/5] END ..................C=100, gamma=0.1;, score=0.747 total time=   0.0s\n",
      "[CV 4/5] END ..................C=100, gamma=0.1;, score=0.730 total time=   0.0s\n",
      "[CV 5/5] END ..................C=100, gamma=0.1;, score=0.702 total time=   0.0s\n",
      "[CV 1/5] END .................C=100, gamma=0.01;, score=0.721 total time=   0.0s\n",
      "[CV 2/5] END .................C=100, gamma=0.01;, score=0.730 total time=   0.0s\n",
      "[CV 3/5] END .................C=100, gamma=0.01;, score=0.787 total time=   0.0s\n",
      "[CV 4/5] END .................C=100, gamma=0.01;, score=0.758 total time=   0.0s\n",
      "[CV 5/5] END .................C=100, gamma=0.01;, score=0.809 total time=   0.0s\n",
      "[CV 1/5] END ................C=100, gamma=0.001;, score=0.799 total time=   0.0s\n",
      "[CV 2/5] END ................C=100, gamma=0.001;, score=0.803 total time=   0.0s\n",
      "[CV 3/5] END ................C=100, gamma=0.001;, score=0.798 total time=   0.0s\n",
      "[CV 4/5] END ................C=100, gamma=0.001;, score=0.787 total time=   0.0s\n",
      "[CV 5/5] END ................C=100, gamma=0.001;, score=0.837 total time=   0.0s\n",
      "[CV 1/5] END ...............C=100, gamma=0.0001;, score=0.782 total time=   0.0s\n",
      "[CV 2/5] END ...............C=100, gamma=0.0001;, score=0.815 total time=   0.0s\n",
      "[CV 3/5] END ...............C=100, gamma=0.0001;, score=0.775 total time=   0.0s\n",
      "[CV 4/5] END ...............C=100, gamma=0.0001;, score=0.758 total time=   0.0s\n",
      "[CV 5/5] END ...............C=100, gamma=0.0001;, score=0.820 total time=   0.0s\n",
      "[CV 1/5] END ...................C=1000, gamma=1;, score=0.682 total time=   0.1s\n",
      "[CV 2/5] END ...................C=1000, gamma=1;, score=0.618 total time=   0.0s\n",
      "[CV 3/5] END ...................C=1000, gamma=1;, score=0.657 total time=   0.0s\n",
      "[CV 4/5] END ...................C=1000, gamma=1;, score=0.640 total time=   0.0s\n",
      "[CV 5/5] END ...................C=1000, gamma=1;, score=0.612 total time=   0.0s\n",
      "[CV 1/5] END .................C=1000, gamma=0.1;, score=0.626 total time=   0.0s\n",
      "[CV 2/5] END .................C=1000, gamma=0.1;, score=0.674 total time=   0.0s\n",
      "[CV 3/5] END .................C=1000, gamma=0.1;, score=0.736 total time=   0.1s\n",
      "[CV 4/5] END .................C=1000, gamma=0.1;, score=0.742 total time=   0.0s\n",
      "[CV 5/5] END .................C=1000, gamma=0.1;, score=0.674 total time=   0.1s\n",
      "[CV 1/5] END ................C=1000, gamma=0.01;, score=0.715 total time=   0.1s\n",
      "[CV 2/5] END ................C=1000, gamma=0.01;, score=0.747 total time=   0.1s\n",
      "[CV 3/5] END ................C=1000, gamma=0.01;, score=0.770 total time=   0.1s\n",
      "[CV 4/5] END ................C=1000, gamma=0.01;, score=0.730 total time=   0.1s\n",
      "[CV 5/5] END ................C=1000, gamma=0.01;, score=0.708 total time=   0.1s\n",
      "[CV 1/5] END ...............C=1000, gamma=0.001;, score=0.827 total time=   0.1s\n",
      "[CV 2/5] END ...............C=1000, gamma=0.001;, score=0.770 total time=   0.1s\n",
      "[CV 3/5] END ...............C=1000, gamma=0.001;, score=0.815 total time=   0.2s\n",
      "[CV 4/5] END ...............C=1000, gamma=0.001;, score=0.775 total time=   0.1s\n",
      "[CV 5/5] END ...............C=1000, gamma=0.001;, score=0.843 total time=   0.2s\n",
      "[CV 1/5] END ..............C=1000, gamma=0.0001;, score=0.827 total time=   0.0s\n",
      "[CV 2/5] END ..............C=1000, gamma=0.0001;, score=0.820 total time=   0.0s\n",
      "[CV 3/5] END ..............C=1000, gamma=0.0001;, score=0.809 total time=   0.0s\n",
      "[CV 4/5] END ..............C=1000, gamma=0.0001;, score=0.775 total time=   0.0s\n",
      "[CV 5/5] END ..............C=1000, gamma=0.0001;, score=0.865 total time=   0.0s\n"
     ]
    },
    {
     "data": {
      "text/plain": [
       "83.61"
      ]
     },
     "execution_count": 53,
     "metadata": {},
     "output_type": "execute_result"
    }
   ],
   "source": [
    "param_grid = {'C':[0.1, 1, 10, 100, 1000], 'gamma':[1, 0.1, 0.01, 0.001, 0.0001]}\n",
    "grid = GridSearchCV(SVC(), param_grid, verbose=3)\n",
    "grid.fit(X_train, y_train)\n",
    "grid.best_params_\n",
    "grid.best_estimator_\n",
    "grid_predictions = grid.predict(X_test)\n",
    "acc_gridCV = round(grid.score(X_train, y_train) * 100, 2)\n",
    "acc_gridCV"
   ]
  },
  {
   "cell_type": "markdown",
   "id": "5e207b07",
   "metadata": {},
   "source": [
    "Decision Tree and Random Forest showing the most accurate method. Going with Random Forest though as they generally outperform Decision Trees."
   ]
  },
  {
   "cell_type": "code",
   "execution_count": 54,
   "id": "c0185141-bdc8-40dc-95cf-72ab4ae6674a",
   "metadata": {},
   "outputs": [
    {
     "data": {
      "text/html": [
       "<div>\n",
       "<style scoped>\n",
       "    .dataframe tbody tr th:only-of-type {\n",
       "        vertical-align: middle;\n",
       "    }\n",
       "\n",
       "    .dataframe tbody tr th {\n",
       "        vertical-align: top;\n",
       "    }\n",
       "\n",
       "    .dataframe thead th {\n",
       "        text-align: right;\n",
       "    }\n",
       "</style>\n",
       "<table border=\"1\" class=\"dataframe\">\n",
       "  <thead>\n",
       "    <tr style=\"text-align: right;\">\n",
       "      <th></th>\n",
       "      <th>Model</th>\n",
       "      <th>Score</th>\n",
       "    </tr>\n",
       "  </thead>\n",
       "  <tbody>\n",
       "    <tr>\n",
       "      <th>0</th>\n",
       "      <td>Decision Tree</td>\n",
       "      <td>98.88</td>\n",
       "    </tr>\n",
       "    <tr>\n",
       "      <th>1</th>\n",
       "      <td>Random Forest</td>\n",
       "      <td>98.88</td>\n",
       "    </tr>\n",
       "    <tr>\n",
       "      <th>2</th>\n",
       "      <td>GridSearchCVs</td>\n",
       "      <td>83.61</td>\n",
       "    </tr>\n",
       "    <tr>\n",
       "      <th>3</th>\n",
       "      <td>Logistic Regression</td>\n",
       "      <td>83.50</td>\n",
       "    </tr>\n",
       "    <tr>\n",
       "      <th>4</th>\n",
       "      <td>Support Vector Machines</td>\n",
       "      <td>68.57</td>\n",
       "    </tr>\n",
       "  </tbody>\n",
       "</table>\n",
       "</div>"
      ],
      "text/plain": [
       "                     Model  Score\n",
       "0            Decision Tree  98.88\n",
       "1            Random Forest  98.88\n",
       "2            GridSearchCVs  83.61\n",
       "3      Logistic Regression  83.50\n",
       "4  Support Vector Machines  68.57"
      ]
     },
     "execution_count": 54,
     "metadata": {},
     "output_type": "execute_result"
    }
   ],
   "source": [
    "models = pd.DataFrame({'Model': ['Logistic Regression', 'Decision Tree', 'Random Forest', 'Support Vector Machines', 'GridSearchCVs'],\n",
    "                       'Score': [acc_log, acc_decision_tree, acc_random_forest, acc_svc, acc_gridCV]})\n",
    "\n",
    "models.sort_values(by = 'Score', ascending = False, ignore_index = True)"
   ]
  },
  {
   "cell_type": "code",
   "execution_count": 55,
   "id": "4c6d4adc-2734-4e6e-8966-e7af6d0081ad",
   "metadata": {},
   "outputs": [
    {
     "data": {
      "text/plain": [
       "array([0, 0, 0, 1, 1, 0, 0, 0, 1, 0, 0, 0, 1, 0, 1, 1, 0, 1, 1, 1, 0, 1,\n",
       "       1, 1, 1, 0, 1, 1, 1, 0, 0, 0, 1, 0, 1, 1, 0, 0, 0, 1, 0, 1, 0, 1,\n",
       "       1, 0, 0, 0, 1, 1, 1, 0, 1, 1, 0, 0, 0, 0, 0, 1, 0, 0, 0, 1, 1, 1,\n",
       "       1, 0, 0, 1, 1, 0, 0, 0, 1, 0, 0, 1, 0, 1, 1, 0, 0, 0, 0, 0, 1, 0,\n",
       "       1, 1, 1, 0, 1, 0, 0, 0, 1, 1, 0, 0, 1, 0, 0, 0, 1, 0, 0, 0, 0, 0,\n",
       "       0, 1, 1, 0, 1, 0, 0, 1, 0, 1, 1, 0, 1, 0, 0, 1, 0, 1, 1, 0, 0, 1,\n",
       "       0, 0, 0, 0, 0, 0, 0, 0, 0, 1, 0, 0, 1, 0, 0, 0, 1, 0, 1, 0, 0, 1,\n",
       "       0, 0, 1, 1, 1, 1, 1, 1, 1, 0, 0, 0, 0, 0, 1, 0, 0, 0, 0, 0, 0, 1,\n",
       "       1, 1, 1, 1, 0, 0, 1, 0, 1, 0, 1, 0, 0, 0, 0, 0, 1, 0, 1, 0, 1, 0,\n",
       "       0, 0, 1, 1, 1, 1, 0, 0, 0, 0, 1, 0, 0, 0, 0, 1, 1, 0, 1, 0, 1, 0,\n",
       "       1, 0, 1, 1, 1, 0, 0, 1, 0, 0, 0, 1, 0, 0, 1, 0, 1, 1, 1, 1, 1, 1,\n",
       "       0, 0, 0, 0, 1, 0, 1, 0, 1, 0, 1, 0, 0, 0, 0, 0, 1, 0, 0, 0, 1, 1,\n",
       "       0, 0, 0, 0, 0, 0, 0, 0, 1, 1, 0, 1, 0, 0, 0, 0, 0, 1, 1, 0, 1, 0,\n",
       "       0, 0, 0, 0, 0, 0, 0, 0, 0, 0, 1, 0, 0, 0, 0, 0, 0, 0, 1, 1, 1, 1,\n",
       "       0, 0, 0, 1, 0, 0, 1, 1, 0, 0, 0, 0, 0, 0, 0, 1, 1, 0, 1, 0, 0, 0,\n",
       "       1, 0, 0, 1, 0, 0, 1, 0, 0, 1, 0, 0, 0, 1, 1, 1, 0, 1, 0, 1, 1, 0,\n",
       "       0, 0, 1, 0, 1, 0, 0, 1, 0, 1, 1, 1, 1, 0, 0, 0, 1, 1, 0, 1, 0, 1,\n",
       "       1, 1, 0, 0, 0, 0, 0, 0, 1, 1, 0, 1, 0, 0, 0, 0, 0, 1, 1, 0, 0, 1,\n",
       "       0, 1, 0, 0, 1, 0, 1, 0, 1, 0, 0, 0, 1, 1, 1, 1, 0, 0, 1, 0, 0, 1])"
      ]
     },
     "execution_count": 55,
     "metadata": {},
     "output_type": "execute_result"
    }
   ],
   "source": [
    "# RandomForestClassifier for test\n",
    "forest_predictions"
   ]
  },
  {
   "cell_type": "code",
   "execution_count": 56,
   "id": "0129e75f-4d42-4b20-9529-2b77e7b0f383",
   "metadata": {},
   "outputs": [
    {
     "data": {
      "text/html": [
       "<div>\n",
       "<style scoped>\n",
       "    .dataframe tbody tr th:only-of-type {\n",
       "        vertical-align: middle;\n",
       "    }\n",
       "\n",
       "    .dataframe tbody tr th {\n",
       "        vertical-align: top;\n",
       "    }\n",
       "\n",
       "    .dataframe thead th {\n",
       "        text-align: right;\n",
       "    }\n",
       "</style>\n",
       "<table border=\"1\" class=\"dataframe\">\n",
       "  <thead>\n",
       "    <tr style=\"text-align: right;\">\n",
       "      <th></th>\n",
       "      <th>PassengerId</th>\n",
       "      <th>Survived</th>\n",
       "    </tr>\n",
       "  </thead>\n",
       "  <tbody>\n",
       "    <tr>\n",
       "      <th>0</th>\n",
       "      <td>892</td>\n",
       "      <td>0</td>\n",
       "    </tr>\n",
       "    <tr>\n",
       "      <th>1</th>\n",
       "      <td>893</td>\n",
       "      <td>0</td>\n",
       "    </tr>\n",
       "    <tr>\n",
       "      <th>2</th>\n",
       "      <td>894</td>\n",
       "      <td>0</td>\n",
       "    </tr>\n",
       "    <tr>\n",
       "      <th>3</th>\n",
       "      <td>895</td>\n",
       "      <td>1</td>\n",
       "    </tr>\n",
       "    <tr>\n",
       "      <th>4</th>\n",
       "      <td>896</td>\n",
       "      <td>1</td>\n",
       "    </tr>\n",
       "    <tr>\n",
       "      <th>...</th>\n",
       "      <td>...</td>\n",
       "      <td>...</td>\n",
       "    </tr>\n",
       "    <tr>\n",
       "      <th>413</th>\n",
       "      <td>1305</td>\n",
       "      <td>0</td>\n",
       "    </tr>\n",
       "    <tr>\n",
       "      <th>414</th>\n",
       "      <td>1306</td>\n",
       "      <td>1</td>\n",
       "    </tr>\n",
       "    <tr>\n",
       "      <th>415</th>\n",
       "      <td>1307</td>\n",
       "      <td>0</td>\n",
       "    </tr>\n",
       "    <tr>\n",
       "      <th>416</th>\n",
       "      <td>1308</td>\n",
       "      <td>0</td>\n",
       "    </tr>\n",
       "    <tr>\n",
       "      <th>417</th>\n",
       "      <td>1309</td>\n",
       "      <td>1</td>\n",
       "    </tr>\n",
       "  </tbody>\n",
       "</table>\n",
       "<p>418 rows × 2 columns</p>\n",
       "</div>"
      ],
      "text/plain": [
       "     PassengerId  Survived\n",
       "0            892         0\n",
       "1            893         0\n",
       "2            894         0\n",
       "3            895         1\n",
       "4            896         1\n",
       "..           ...       ...\n",
       "413         1305         0\n",
       "414         1306         1\n",
       "415         1307         0\n",
       "416         1308         0\n",
       "417         1309         1\n",
       "\n",
       "[418 rows x 2 columns]"
      ]
     },
     "execution_count": 56,
     "metadata": {},
     "output_type": "execute_result"
    }
   ],
   "source": [
    "test_data['Survived'] = forest_predictions\n",
    "titanic_predictions = test_data[['PassengerId', 'Survived']]\n",
    "\n",
    "titanic_predictions"
   ]
  },
  {
   "cell_type": "markdown",
   "id": "72493178",
   "metadata": {},
   "source": [
    "The correct shape for the submission csv"
   ]
  },
  {
   "cell_type": "code",
   "execution_count": 57,
   "id": "f20a5774-752a-45ac-94e0-d99a07e1e926",
   "metadata": {},
   "outputs": [
    {
     "data": {
      "text/plain": [
       "(418, 2)"
      ]
     },
     "execution_count": 57,
     "metadata": {},
     "output_type": "execute_result"
    }
   ],
   "source": [
    "titanic_predictions.shape"
   ]
  },
  {
   "cell_type": "code",
   "execution_count": 58,
   "id": "71240944-8d37-4c7b-9576-ee559643f3be",
   "metadata": {},
   "outputs": [],
   "source": [
    "titanic_predictions.to_csv('titanic_predictions.csv', index=False)"
   ]
  },
  {
   "cell_type": "markdown",
   "id": "f9112fb7",
   "metadata": {},
   "source": [
    "Kaggle came back with a score of 75.4%. Not too bad, there were some optimisations I could've done for the Random Forest n_estimators and there were potentially some columns I should've omitted as they may have confused the models like the ticket. \n",
    "\n",
    "Overall, predicting 3 out of 4 passengers is good. "
   ]
  },
  {
   "cell_type": "code",
   "execution_count": null,
   "id": "c32758ad",
   "metadata": {},
   "outputs": [],
   "source": []
  }
 ],
 "metadata": {
  "kernelspec": {
   "display_name": "Python 3 (ipykernel)",
   "language": "python",
   "name": "python3"
  },
  "language_info": {
   "codemirror_mode": {
    "name": "ipython",
    "version": 3
   },
   "file_extension": ".py",
   "mimetype": "text/x-python",
   "name": "python",
   "nbconvert_exporter": "python",
   "pygments_lexer": "ipython3",
   "version": "3.11.7"
  }
 },
 "nbformat": 4,
 "nbformat_minor": 5
}
